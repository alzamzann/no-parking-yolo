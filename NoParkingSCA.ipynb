{
  "nbformat": 4,
  "nbformat_minor": 0,
  "metadata": {
    "colab": {
      "provenance": [],
      "gpuType": "T4"
    },
    "kernelspec": {
      "name": "python3",
      "display_name": "Python 3"
    },
    "language_info": {
      "name": "python"
    },
    "accelerator": "GPU"
  },
  "cells": [
    {
      "cell_type": "markdown",
      "source": [
        "# **Aplikasi Computer Vision | Tugas SCA P12**\n",
        "### Anggota :\n",
        "\n",
        "\n",
        "*   Daffa Al-Fathir Ismail | 2201636\n",
        "*   M. Fauzan Al Zamzami | 2202564\n",
        "*   Raifal Bagus | 2203592\n"
      ],
      "metadata": {
        "id": "MwwN2yCK4fVU"
      }
    },
    {
      "cell_type": "code",
      "execution_count": null,
      "metadata": {
        "id": "CyE1WtEJlTgm",
        "colab": {
          "base_uri": "https://localhost:8080/"
        },
        "outputId": "8cddcd14-69d7-413a-e06f-2fa348135780"
      },
      "outputs": [
        {
          "output_type": "stream",
          "name": "stdout",
          "text": [
            "Collecting roboflow\n",
            "  Downloading roboflow-1.1.49-py3-none-any.whl.metadata (9.7 kB)\n",
            "Requirement already satisfied: certifi in /usr/local/lib/python3.10/dist-packages (from roboflow) (2024.8.30)\n",
            "Collecting idna==3.7 (from roboflow)\n",
            "  Downloading idna-3.7-py3-none-any.whl.metadata (9.9 kB)\n",
            "Requirement already satisfied: cycler in /usr/local/lib/python3.10/dist-packages (from roboflow) (0.12.1)\n",
            "Requirement already satisfied: kiwisolver>=1.3.1 in /usr/local/lib/python3.10/dist-packages (from roboflow) (1.4.7)\n",
            "Requirement already satisfied: matplotlib in /usr/local/lib/python3.10/dist-packages (from roboflow) (3.8.0)\n",
            "Requirement already satisfied: numpy>=1.18.5 in /usr/local/lib/python3.10/dist-packages (from roboflow) (1.26.4)\n",
            "Requirement already satisfied: opencv-python-headless==4.10.0.84 in /usr/local/lib/python3.10/dist-packages (from roboflow) (4.10.0.84)\n",
            "Requirement already satisfied: Pillow>=7.1.2 in /usr/local/lib/python3.10/dist-packages (from roboflow) (11.0.0)\n",
            "Requirement already satisfied: python-dateutil in /usr/local/lib/python3.10/dist-packages (from roboflow) (2.8.2)\n",
            "Collecting python-dotenv (from roboflow)\n",
            "  Downloading python_dotenv-1.0.1-py3-none-any.whl.metadata (23 kB)\n",
            "Requirement already satisfied: requests in /usr/local/lib/python3.10/dist-packages (from roboflow) (2.32.3)\n",
            "Requirement already satisfied: six in /usr/local/lib/python3.10/dist-packages (from roboflow) (1.16.0)\n",
            "Requirement already satisfied: urllib3>=1.26.6 in /usr/local/lib/python3.10/dist-packages (from roboflow) (2.2.3)\n",
            "Requirement already satisfied: tqdm>=4.41.0 in /usr/local/lib/python3.10/dist-packages (from roboflow) (4.66.6)\n",
            "Requirement already satisfied: PyYAML>=5.3.1 in /usr/local/lib/python3.10/dist-packages (from roboflow) (6.0.2)\n",
            "Requirement already satisfied: requests-toolbelt in /usr/local/lib/python3.10/dist-packages (from roboflow) (1.0.0)\n",
            "Collecting filetype (from roboflow)\n",
            "  Downloading filetype-1.2.0-py2.py3-none-any.whl.metadata (6.5 kB)\n",
            "Requirement already satisfied: contourpy>=1.0.1 in /usr/local/lib/python3.10/dist-packages (from matplotlib->roboflow) (1.3.1)\n",
            "Requirement already satisfied: fonttools>=4.22.0 in /usr/local/lib/python3.10/dist-packages (from matplotlib->roboflow) (4.55.0)\n",
            "Requirement already satisfied: packaging>=20.0 in /usr/local/lib/python3.10/dist-packages (from matplotlib->roboflow) (24.2)\n",
            "Requirement already satisfied: pyparsing>=2.3.1 in /usr/local/lib/python3.10/dist-packages (from matplotlib->roboflow) (3.2.0)\n",
            "Requirement already satisfied: charset-normalizer<4,>=2 in /usr/local/lib/python3.10/dist-packages (from requests->roboflow) (3.4.0)\n",
            "Downloading roboflow-1.1.49-py3-none-any.whl (80 kB)\n",
            "\u001b[2K   \u001b[90m━━━━━━━━━━━━━━━━━━━━━━━━━━━━━━━━━━━━━━━━\u001b[0m \u001b[32m80.9/80.9 kB\u001b[0m \u001b[31m6.1 MB/s\u001b[0m eta \u001b[36m0:00:00\u001b[0m\n",
            "\u001b[?25hDownloading idna-3.7-py3-none-any.whl (66 kB)\n",
            "\u001b[2K   \u001b[90m━━━━━━━━━━━━━━━━━━━━━━━━━━━━━━━━━━━━━━━━\u001b[0m \u001b[32m66.8/66.8 kB\u001b[0m \u001b[31m5.0 MB/s\u001b[0m eta \u001b[36m0:00:00\u001b[0m\n",
            "\u001b[?25hDownloading filetype-1.2.0-py2.py3-none-any.whl (19 kB)\n",
            "Downloading python_dotenv-1.0.1-py3-none-any.whl (19 kB)\n",
            "Installing collected packages: filetype, python-dotenv, idna, roboflow\n",
            "  Attempting uninstall: idna\n",
            "    Found existing installation: idna 3.10\n",
            "    Uninstalling idna-3.10:\n",
            "      Successfully uninstalled idna-3.10\n",
            "Successfully installed filetype-1.2.0 idna-3.7 python-dotenv-1.0.1 roboflow-1.1.49\n",
            "loading Roboflow workspace...\n",
            "loading Roboflow project...\n"
          ]
        },
        {
          "output_type": "stream",
          "name": "stderr",
          "text": [
            "Downloading Dataset Version Zip in RambuSCAP12-2 to yolov8:: 100%|██████████| 59386/59386 [00:04<00:00, 12335.12it/s]"
          ]
        },
        {
          "output_type": "stream",
          "name": "stdout",
          "text": [
            "\n"
          ]
        },
        {
          "output_type": "stream",
          "name": "stderr",
          "text": [
            "\n",
            "Extracting Dataset Version Zip to RambuSCAP12-2 in yolov8:: 100%|██████████| 2086/2086 [00:00<00:00, 5749.27it/s]\n"
          ]
        }
      ],
      "source": [
        "!pip install roboflow\n",
        "\n",
        "from roboflow import Roboflow\n",
        "rf = Roboflow(api_key=\"TMyL5pLxqYFm3KMs9sXa\")\n",
        "project = rf.workspace(\"testi-ymodf\").project(\"rambuscap12\")\n",
        "version = project.version(2)\n",
        "dataset = version.download(\"yolov8\")"
      ]
    },
    {
      "cell_type": "code",
      "source": [
        "!pip install ultralytics"
      ],
      "metadata": {
        "id": "Yt5eq7bYlaWb",
        "colab": {
          "base_uri": "https://localhost:8080/"
        },
        "outputId": "f8457bb0-a942-46d5-edc5-b9a42486ea40"
      },
      "execution_count": 2,
      "outputs": [
        {
          "output_type": "stream",
          "name": "stdout",
          "text": [
            "Collecting ultralytics\n",
            "  Downloading ultralytics-8.3.38-py3-none-any.whl.metadata (35 kB)\n",
            "Requirement already satisfied: numpy>=1.23.0 in /usr/local/lib/python3.10/dist-packages (from ultralytics) (1.26.4)\n",
            "Requirement already satisfied: matplotlib>=3.3.0 in /usr/local/lib/python3.10/dist-packages (from ultralytics) (3.8.0)\n",
            "Requirement already satisfied: opencv-python>=4.6.0 in /usr/local/lib/python3.10/dist-packages (from ultralytics) (4.10.0.84)\n",
            "Requirement already satisfied: pillow>=7.1.2 in /usr/local/lib/python3.10/dist-packages (from ultralytics) (11.0.0)\n",
            "Requirement already satisfied: pyyaml>=5.3.1 in /usr/local/lib/python3.10/dist-packages (from ultralytics) (6.0.2)\n",
            "Requirement already satisfied: requests>=2.23.0 in /usr/local/lib/python3.10/dist-packages (from ultralytics) (2.32.3)\n",
            "Requirement already satisfied: scipy>=1.4.1 in /usr/local/lib/python3.10/dist-packages (from ultralytics) (1.13.1)\n",
            "Requirement already satisfied: torch>=1.8.0 in /usr/local/lib/python3.10/dist-packages (from ultralytics) (2.5.1+cu121)\n",
            "Requirement already satisfied: torchvision>=0.9.0 in /usr/local/lib/python3.10/dist-packages (from ultralytics) (0.20.1+cu121)\n",
            "Requirement already satisfied: tqdm>=4.64.0 in /usr/local/lib/python3.10/dist-packages (from ultralytics) (4.66.6)\n",
            "Requirement already satisfied: psutil in /usr/local/lib/python3.10/dist-packages (from ultralytics) (5.9.5)\n",
            "Requirement already satisfied: py-cpuinfo in /usr/local/lib/python3.10/dist-packages (from ultralytics) (9.0.0)\n",
            "Requirement already satisfied: pandas>=1.1.4 in /usr/local/lib/python3.10/dist-packages (from ultralytics) (2.2.2)\n",
            "Requirement already satisfied: seaborn>=0.11.0 in /usr/local/lib/python3.10/dist-packages (from ultralytics) (0.13.2)\n",
            "Collecting ultralytics-thop>=2.0.0 (from ultralytics)\n",
            "  Downloading ultralytics_thop-2.0.12-py3-none-any.whl.metadata (9.4 kB)\n",
            "Requirement already satisfied: contourpy>=1.0.1 in /usr/local/lib/python3.10/dist-packages (from matplotlib>=3.3.0->ultralytics) (1.3.1)\n",
            "Requirement already satisfied: cycler>=0.10 in /usr/local/lib/python3.10/dist-packages (from matplotlib>=3.3.0->ultralytics) (0.12.1)\n",
            "Requirement already satisfied: fonttools>=4.22.0 in /usr/local/lib/python3.10/dist-packages (from matplotlib>=3.3.0->ultralytics) (4.55.0)\n",
            "Requirement already satisfied: kiwisolver>=1.0.1 in /usr/local/lib/python3.10/dist-packages (from matplotlib>=3.3.0->ultralytics) (1.4.7)\n",
            "Requirement already satisfied: packaging>=20.0 in /usr/local/lib/python3.10/dist-packages (from matplotlib>=3.3.0->ultralytics) (24.2)\n",
            "Requirement already satisfied: pyparsing>=2.3.1 in /usr/local/lib/python3.10/dist-packages (from matplotlib>=3.3.0->ultralytics) (3.2.0)\n",
            "Requirement already satisfied: python-dateutil>=2.7 in /usr/local/lib/python3.10/dist-packages (from matplotlib>=3.3.0->ultralytics) (2.8.2)\n",
            "Requirement already satisfied: pytz>=2020.1 in /usr/local/lib/python3.10/dist-packages (from pandas>=1.1.4->ultralytics) (2024.2)\n",
            "Requirement already satisfied: tzdata>=2022.7 in /usr/local/lib/python3.10/dist-packages (from pandas>=1.1.4->ultralytics) (2024.2)\n",
            "Requirement already satisfied: charset-normalizer<4,>=2 in /usr/local/lib/python3.10/dist-packages (from requests>=2.23.0->ultralytics) (3.4.0)\n",
            "Requirement already satisfied: idna<4,>=2.5 in /usr/local/lib/python3.10/dist-packages (from requests>=2.23.0->ultralytics) (3.7)\n",
            "Requirement already satisfied: urllib3<3,>=1.21.1 in /usr/local/lib/python3.10/dist-packages (from requests>=2.23.0->ultralytics) (2.2.3)\n",
            "Requirement already satisfied: certifi>=2017.4.17 in /usr/local/lib/python3.10/dist-packages (from requests>=2.23.0->ultralytics) (2024.8.30)\n",
            "Requirement already satisfied: filelock in /usr/local/lib/python3.10/dist-packages (from torch>=1.8.0->ultralytics) (3.16.1)\n",
            "Requirement already satisfied: typing-extensions>=4.8.0 in /usr/local/lib/python3.10/dist-packages (from torch>=1.8.0->ultralytics) (4.12.2)\n",
            "Requirement already satisfied: networkx in /usr/local/lib/python3.10/dist-packages (from torch>=1.8.0->ultralytics) (3.4.2)\n",
            "Requirement already satisfied: jinja2 in /usr/local/lib/python3.10/dist-packages (from torch>=1.8.0->ultralytics) (3.1.4)\n",
            "Requirement already satisfied: fsspec in /usr/local/lib/python3.10/dist-packages (from torch>=1.8.0->ultralytics) (2024.10.0)\n",
            "Requirement already satisfied: sympy==1.13.1 in /usr/local/lib/python3.10/dist-packages (from torch>=1.8.0->ultralytics) (1.13.1)\n",
            "Requirement already satisfied: mpmath<1.4,>=1.1.0 in /usr/local/lib/python3.10/dist-packages (from sympy==1.13.1->torch>=1.8.0->ultralytics) (1.3.0)\n",
            "Requirement already satisfied: six>=1.5 in /usr/local/lib/python3.10/dist-packages (from python-dateutil>=2.7->matplotlib>=3.3.0->ultralytics) (1.16.0)\n",
            "Requirement already satisfied: MarkupSafe>=2.0 in /usr/local/lib/python3.10/dist-packages (from jinja2->torch>=1.8.0->ultralytics) (3.0.2)\n",
            "Downloading ultralytics-8.3.38-py3-none-any.whl (896 kB)\n",
            "\u001b[2K   \u001b[90m━━━━━━━━━━━━━━━━━━━━━━━━━━━━━━━━━━━━━━━━\u001b[0m \u001b[32m896.3/896.3 kB\u001b[0m \u001b[31m42.7 MB/s\u001b[0m eta \u001b[36m0:00:00\u001b[0m\n",
            "\u001b[?25hDownloading ultralytics_thop-2.0.12-py3-none-any.whl (26 kB)\n",
            "Installing collected packages: ultralytics-thop, ultralytics\n",
            "Successfully installed ultralytics-8.3.38 ultralytics-thop-2.0.12\n"
          ]
        }
      ]
    },
    {
      "cell_type": "code",
      "source": [
        "from google.colab import drive\n",
        "drive.mount('/content/drive')"
      ],
      "metadata": {
        "id": "0FEnUMrbleWe",
        "colab": {
          "base_uri": "https://localhost:8080/"
        },
        "outputId": "0ba13d00-4de9-466e-dc50-6c25ee74d4c9"
      },
      "execution_count": 3,
      "outputs": [
        {
          "output_type": "stream",
          "name": "stdout",
          "text": [
            "Mounted at /content/drive\n"
          ]
        }
      ]
    },
    {
      "cell_type": "code",
      "source": [
        "from ultralytics import YOLO\n",
        "\n",
        "# Load a model\n",
        "# model = YOLO('yolov8n.yaml')  # build a new model from YAML\n",
        "model = YOLO('yolov8n.pt')  # load a pretrained model (recommended for training)\n",
        "# model = YOLO('yolov8n.yaml').load('yolov8n.pt')  # build from YAML and transfer weights\n",
        "\n",
        "# Train the model\n",
        "results = model.train(data='/content/RambuSCAP12-2/data.yaml', epochs=65, imgsz=640) #change data path to your data.yaml path (you will get data.yaml when you download the dataset from the roboflow)"
      ],
      "metadata": {
        "id": "4aAmz9lHlh_6",
        "colab": {
          "base_uri": "https://localhost:8080/"
        },
        "outputId": "a2757313-a2ed-4c88-f6d8-792935f2699a"
      },
      "execution_count": 4,
      "outputs": [
        {
          "output_type": "stream",
          "name": "stdout",
          "text": [
            "Creating new Ultralytics Settings v0.0.6 file ✅ \n",
            "View Ultralytics Settings with 'yolo settings' or at '/root/.config/Ultralytics/settings.json'\n",
            "Update Settings with 'yolo settings key=value', i.e. 'yolo settings runs_dir=path/to/dir'. For help see https://docs.ultralytics.com/quickstart/#ultralytics-settings.\n",
            "Downloading https://github.com/ultralytics/assets/releases/download/v8.3.0/yolov8n.pt to 'yolov8n.pt'...\n"
          ]
        },
        {
          "output_type": "stream",
          "name": "stderr",
          "text": [
            "100%|██████████| 6.25M/6.25M [00:00<00:00, 340MB/s]\n"
          ]
        },
        {
          "output_type": "stream",
          "name": "stdout",
          "text": [
            "Ultralytics 8.3.38 🚀 Python-3.10.12 torch-2.5.1+cu121 CUDA:0 (Tesla T4, 15102MiB)\n",
            "\u001b[34m\u001b[1mengine/trainer: \u001b[0mtask=detect, mode=train, model=yolov8n.pt, data=/content/RambuSCAP12-2/data.yaml, epochs=65, time=None, patience=100, batch=16, imgsz=640, save=True, save_period=-1, cache=False, device=None, workers=8, project=None, name=train, exist_ok=False, pretrained=True, optimizer=auto, verbose=True, seed=0, deterministic=True, single_cls=False, rect=False, cos_lr=False, close_mosaic=10, resume=False, amp=True, fraction=1.0, profile=False, freeze=None, multi_scale=False, overlap_mask=True, mask_ratio=4, dropout=0.0, val=True, split=val, save_json=False, save_hybrid=False, conf=None, iou=0.7, max_det=300, half=False, dnn=False, plots=True, source=None, vid_stride=1, stream_buffer=False, visualize=False, augment=False, agnostic_nms=False, classes=None, retina_masks=False, embed=None, show=False, save_frames=False, save_txt=False, save_conf=False, save_crop=False, show_labels=True, show_conf=True, show_boxes=True, line_width=None, format=torchscript, keras=False, optimize=False, int8=False, dynamic=False, simplify=True, opset=None, workspace=None, nms=False, lr0=0.01, lrf=0.01, momentum=0.937, weight_decay=0.0005, warmup_epochs=3.0, warmup_momentum=0.8, warmup_bias_lr=0.1, box=7.5, cls=0.5, dfl=1.5, pose=12.0, kobj=1.0, nbs=64, hsv_h=0.015, hsv_s=0.7, hsv_v=0.4, degrees=0.0, translate=0.1, scale=0.5, shear=0.0, perspective=0.0, flipud=0.0, fliplr=0.5, bgr=0.0, mosaic=1.0, mixup=0.0, copy_paste=0.0, copy_paste_mode=flip, auto_augment=randaugment, erasing=0.4, crop_fraction=1.0, cfg=None, tracker=botsort.yaml, save_dir=runs/detect/train\n",
            "Downloading https://ultralytics.com/assets/Arial.ttf to '/root/.config/Ultralytics/Arial.ttf'...\n"
          ]
        },
        {
          "output_type": "stream",
          "name": "stderr",
          "text": [
            "100%|██████████| 755k/755k [00:00<00:00, 108MB/s]\n"
          ]
        },
        {
          "output_type": "stream",
          "name": "stdout",
          "text": [
            "Overriding model.yaml nc=80 with nc=1\n",
            "\n",
            "                   from  n    params  module                                       arguments                     \n",
            "  0                  -1  1       464  ultralytics.nn.modules.conv.Conv             [3, 16, 3, 2]                 \n",
            "  1                  -1  1      4672  ultralytics.nn.modules.conv.Conv             [16, 32, 3, 2]                \n",
            "  2                  -1  1      7360  ultralytics.nn.modules.block.C2f             [32, 32, 1, True]             \n",
            "  3                  -1  1     18560  ultralytics.nn.modules.conv.Conv             [32, 64, 3, 2]                \n",
            "  4                  -1  2     49664  ultralytics.nn.modules.block.C2f             [64, 64, 2, True]             \n",
            "  5                  -1  1     73984  ultralytics.nn.modules.conv.Conv             [64, 128, 3, 2]               \n",
            "  6                  -1  2    197632  ultralytics.nn.modules.block.C2f             [128, 128, 2, True]           \n",
            "  7                  -1  1    295424  ultralytics.nn.modules.conv.Conv             [128, 256, 3, 2]              \n",
            "  8                  -1  1    460288  ultralytics.nn.modules.block.C2f             [256, 256, 1, True]           \n",
            "  9                  -1  1    164608  ultralytics.nn.modules.block.SPPF            [256, 256, 5]                 \n",
            " 10                  -1  1         0  torch.nn.modules.upsampling.Upsample         [None, 2, 'nearest']          \n",
            " 11             [-1, 6]  1         0  ultralytics.nn.modules.conv.Concat           [1]                           \n",
            " 12                  -1  1    148224  ultralytics.nn.modules.block.C2f             [384, 128, 1]                 \n",
            " 13                  -1  1         0  torch.nn.modules.upsampling.Upsample         [None, 2, 'nearest']          \n",
            " 14             [-1, 4]  1         0  ultralytics.nn.modules.conv.Concat           [1]                           \n",
            " 15                  -1  1     37248  ultralytics.nn.modules.block.C2f             [192, 64, 1]                  \n",
            " 16                  -1  1     36992  ultralytics.nn.modules.conv.Conv             [64, 64, 3, 2]                \n",
            " 17            [-1, 12]  1         0  ultralytics.nn.modules.conv.Concat           [1]                           \n",
            " 18                  -1  1    123648  ultralytics.nn.modules.block.C2f             [192, 128, 1]                 \n",
            " 19                  -1  1    147712  ultralytics.nn.modules.conv.Conv             [128, 128, 3, 2]              \n",
            " 20             [-1, 9]  1         0  ultralytics.nn.modules.conv.Concat           [1]                           \n",
            " 21                  -1  1    493056  ultralytics.nn.modules.block.C2f             [384, 256, 1]                 \n",
            " 22        [15, 18, 21]  1    751507  ultralytics.nn.modules.head.Detect           [1, [64, 128, 256]]           \n",
            "Model summary: 225 layers, 3,011,043 parameters, 3,011,027 gradients, 8.2 GFLOPs\n",
            "\n",
            "Transferred 319/355 items from pretrained weights\n",
            "\u001b[34m\u001b[1mTensorBoard: \u001b[0mStart with 'tensorboard --logdir runs/detect/train', view at http://localhost:6006/\n",
            "Freezing layer 'model.22.dfl.conv.weight'\n",
            "\u001b[34m\u001b[1mAMP: \u001b[0mrunning Automatic Mixed Precision (AMP) checks...\n",
            "Downloading https://github.com/ultralytics/assets/releases/download/v8.3.0/yolo11n.pt to 'yolo11n.pt'...\n"
          ]
        },
        {
          "output_type": "stream",
          "name": "stderr",
          "text": [
            "100%|██████████| 5.35M/5.35M [00:00<00:00, 283MB/s]\n"
          ]
        },
        {
          "output_type": "stream",
          "name": "stdout",
          "text": [
            "\u001b[34m\u001b[1mAMP: \u001b[0mchecks passed ✅\n"
          ]
        },
        {
          "output_type": "stream",
          "name": "stderr",
          "text": [
            "\u001b[34m\u001b[1mtrain: \u001b[0mScanning /content/RambuSCAP12-2/train/labels... 727 images, 4 backgrounds, 0 corrupt: 100%|██████████| 727/727 [00:00<00:00, 1764.26it/s]"
          ]
        },
        {
          "output_type": "stream",
          "name": "stdout",
          "text": [
            "\u001b[34m\u001b[1mtrain: \u001b[0mNew cache created: /content/RambuSCAP12-2/train/labels.cache\n"
          ]
        },
        {
          "output_type": "stream",
          "name": "stderr",
          "text": [
            "\n"
          ]
        },
        {
          "output_type": "stream",
          "name": "stdout",
          "text": [
            "\u001b[34m\u001b[1malbumentations: \u001b[0mBlur(p=0.01, blur_limit=(3, 7)), MedianBlur(p=0.01, blur_limit=(3, 7)), ToGray(p=0.01, num_output_channels=3, method='weighted_average'), CLAHE(p=0.01, clip_limit=(1.0, 4.0), tile_grid_size=(8, 8))\n"
          ]
        },
        {
          "output_type": "stream",
          "name": "stderr",
          "text": [
            "A new version of Albumentations is available: 1.4.21 (you have 1.4.20). Upgrade using: pip install -U albumentations. To disable automatic update checks, set the environment variable NO_ALBUMENTATIONS_UPDATE to 1.\n",
            "\u001b[34m\u001b[1mval: \u001b[0mScanning /content/RambuSCAP12-2/valid/labels... 210 images, 2 backgrounds, 0 corrupt: 100%|██████████| 210/210 [00:00<00:00, 1238.11it/s]"
          ]
        },
        {
          "output_type": "stream",
          "name": "stdout",
          "text": [
            "\u001b[34m\u001b[1mval: \u001b[0mNew cache created: /content/RambuSCAP12-2/valid/labels.cache\n"
          ]
        },
        {
          "output_type": "stream",
          "name": "stderr",
          "text": [
            "\n"
          ]
        },
        {
          "output_type": "stream",
          "name": "stdout",
          "text": [
            "Plotting labels to runs/detect/train/labels.jpg... \n",
            "\u001b[34m\u001b[1moptimizer:\u001b[0m 'optimizer=auto' found, ignoring 'lr0=0.01' and 'momentum=0.937' and determining best 'optimizer', 'lr0' and 'momentum' automatically... \n",
            "\u001b[34m\u001b[1moptimizer:\u001b[0m AdamW(lr=0.002, momentum=0.9) with parameter groups 57 weight(decay=0.0), 64 weight(decay=0.0005), 63 bias(decay=0.0)\n",
            "\u001b[34m\u001b[1mTensorBoard: \u001b[0mmodel graph visualization added ✅\n",
            "Image sizes 640 train, 640 val\n",
            "Using 2 dataloader workers\n",
            "Logging results to \u001b[1mruns/detect/train\u001b[0m\n",
            "Starting training for 65 epochs...\n",
            "\n",
            "      Epoch    GPU_mem   box_loss   cls_loss   dfl_loss  Instances       Size\n"
          ]
        },
        {
          "output_type": "stream",
          "name": "stderr",
          "text": [
            "       1/65       2.2G     0.6934      1.423      1.161         14        640: 100%|██████████| 46/46 [00:19<00:00,  2.36it/s]\n",
            "                 Class     Images  Instances      Box(P          R      mAP50  mAP50-95): 100%|██████████| 7/7 [00:03<00:00,  2.01it/s]"
          ]
        },
        {
          "output_type": "stream",
          "name": "stdout",
          "text": [
            "                   all        210        209       0.95      0.902      0.964      0.736\n"
          ]
        },
        {
          "output_type": "stream",
          "name": "stderr",
          "text": [
            "\n"
          ]
        },
        {
          "output_type": "stream",
          "name": "stdout",
          "text": [
            "\n",
            "      Epoch    GPU_mem   box_loss   cls_loss   dfl_loss  Instances       Size\n"
          ]
        },
        {
          "output_type": "stream",
          "name": "stderr",
          "text": [
            "       2/65      2.23G      0.697     0.9175      1.132         16        640: 100%|██████████| 46/46 [00:16<00:00,  2.76it/s]\n",
            "                 Class     Images  Instances      Box(P          R      mAP50  mAP50-95): 100%|██████████| 7/7 [00:02<00:00,  3.35it/s]\n"
          ]
        },
        {
          "output_type": "stream",
          "name": "stdout",
          "text": [
            "                   all        210        209      0.866      0.924      0.969      0.716\n",
            "\n",
            "      Epoch    GPU_mem   box_loss   cls_loss   dfl_loss  Instances       Size\n"
          ]
        },
        {
          "output_type": "stream",
          "name": "stderr",
          "text": [
            "       3/65      2.23G     0.7275     0.8294      1.133         16        640: 100%|██████████| 46/46 [00:19<00:00,  2.41it/s]\n",
            "                 Class     Images  Instances      Box(P          R      mAP50  mAP50-95): 100%|██████████| 7/7 [00:02<00:00,  3.43it/s]\n"
          ]
        },
        {
          "output_type": "stream",
          "name": "stdout",
          "text": [
            "                   all        210        209      0.724      0.684      0.704      0.442\n",
            "\n",
            "      Epoch    GPU_mem   box_loss   cls_loss   dfl_loss  Instances       Size\n"
          ]
        },
        {
          "output_type": "stream",
          "name": "stderr",
          "text": [
            "       4/65      2.23G     0.7186     0.7096      1.135         13        640: 100%|██████████| 46/46 [00:16<00:00,  2.76it/s]\n",
            "                 Class     Images  Instances      Box(P          R      mAP50  mAP50-95): 100%|██████████| 7/7 [00:01<00:00,  3.51it/s]\n"
          ]
        },
        {
          "output_type": "stream",
          "name": "stdout",
          "text": [
            "                   all        210        209      0.715      0.755      0.806      0.443\n",
            "\n",
            "      Epoch    GPU_mem   box_loss   cls_loss   dfl_loss  Instances       Size\n"
          ]
        },
        {
          "output_type": "stream",
          "name": "stderr",
          "text": [
            "       5/65      2.23G     0.6845     0.6383      1.108         13        640: 100%|██████████| 46/46 [00:16<00:00,  2.85it/s]\n",
            "                 Class     Images  Instances      Box(P          R      mAP50  mAP50-95): 100%|██████████| 7/7 [00:01<00:00,  3.51it/s]\n"
          ]
        },
        {
          "output_type": "stream",
          "name": "stdout",
          "text": [
            "                   all        210        209      0.876      0.746      0.884      0.584\n",
            "\n",
            "      Epoch    GPU_mem   box_loss   cls_loss   dfl_loss  Instances       Size\n"
          ]
        },
        {
          "output_type": "stream",
          "name": "stderr",
          "text": [
            "       6/65      2.23G     0.7304     0.6008       1.13         17        640: 100%|██████████| 46/46 [00:15<00:00,  2.89it/s]\n",
            "                 Class     Images  Instances      Box(P          R      mAP50  mAP50-95): 100%|██████████| 7/7 [00:01<00:00,  3.57it/s]\n"
          ]
        },
        {
          "output_type": "stream",
          "name": "stdout",
          "text": [
            "                   all        210        209      0.692      0.646      0.657      0.413\n",
            "\n",
            "      Epoch    GPU_mem   box_loss   cls_loss   dfl_loss  Instances       Size\n"
          ]
        },
        {
          "output_type": "stream",
          "name": "stderr",
          "text": [
            "       7/65      2.23G     0.6666     0.5405      1.093         16        640: 100%|██████████| 46/46 [00:16<00:00,  2.80it/s]\n",
            "                 Class     Images  Instances      Box(P          R      mAP50  mAP50-95): 100%|██████████| 7/7 [00:01<00:00,  3.82it/s]"
          ]
        },
        {
          "output_type": "stream",
          "name": "stdout",
          "text": [
            "                   all        210        209      0.928      0.909      0.971      0.796\n"
          ]
        },
        {
          "output_type": "stream",
          "name": "stderr",
          "text": [
            "\n"
          ]
        },
        {
          "output_type": "stream",
          "name": "stdout",
          "text": [
            "\n",
            "      Epoch    GPU_mem   box_loss   cls_loss   dfl_loss  Instances       Size\n"
          ]
        },
        {
          "output_type": "stream",
          "name": "stderr",
          "text": [
            "       8/65      2.23G     0.6308     0.4907      1.073         16        640: 100%|██████████| 46/46 [00:15<00:00,  2.93it/s]\n",
            "                 Class     Images  Instances      Box(P          R      mAP50  mAP50-95): 100%|██████████| 7/7 [00:02<00:00,  3.44it/s]"
          ]
        },
        {
          "output_type": "stream",
          "name": "stdout",
          "text": [
            "                   all        210        209      0.967      0.977      0.983      0.836\n"
          ]
        },
        {
          "output_type": "stream",
          "name": "stderr",
          "text": [
            "\n"
          ]
        },
        {
          "output_type": "stream",
          "name": "stdout",
          "text": [
            "\n",
            "      Epoch    GPU_mem   box_loss   cls_loss   dfl_loss  Instances       Size\n"
          ]
        },
        {
          "output_type": "stream",
          "name": "stderr",
          "text": [
            "       9/65      2.23G     0.5999     0.4586      1.058         20        640: 100%|██████████| 46/46 [00:16<00:00,  2.77it/s]\n",
            "                 Class     Images  Instances      Box(P          R      mAP50  mAP50-95): 100%|██████████| 7/7 [00:01<00:00,  3.55it/s]"
          ]
        },
        {
          "output_type": "stream",
          "name": "stdout",
          "text": [
            "                   all        210        209      0.989      0.995       0.99      0.873\n"
          ]
        },
        {
          "output_type": "stream",
          "name": "stderr",
          "text": [
            "\n"
          ]
        },
        {
          "output_type": "stream",
          "name": "stdout",
          "text": [
            "\n",
            "      Epoch    GPU_mem   box_loss   cls_loss   dfl_loss  Instances       Size\n"
          ]
        },
        {
          "output_type": "stream",
          "name": "stderr",
          "text": [
            "      10/65      2.23G     0.5722     0.4403      1.038         18        640: 100%|██████████| 46/46 [00:15<00:00,  2.88it/s]\n",
            "                 Class     Images  Instances      Box(P          R      mAP50  mAP50-95): 100%|██████████| 7/7 [00:01<00:00,  3.51it/s]"
          ]
        },
        {
          "output_type": "stream",
          "name": "stdout",
          "text": [
            "                   all        210        209      0.962      0.979      0.983       0.87\n"
          ]
        },
        {
          "output_type": "stream",
          "name": "stderr",
          "text": [
            "\n"
          ]
        },
        {
          "output_type": "stream",
          "name": "stdout",
          "text": [
            "\n",
            "      Epoch    GPU_mem   box_loss   cls_loss   dfl_loss  Instances       Size\n"
          ]
        },
        {
          "output_type": "stream",
          "name": "stderr",
          "text": [
            "      11/65      2.23G     0.5601     0.4281       1.03         15        640: 100%|██████████| 46/46 [00:16<00:00,  2.79it/s]\n",
            "                 Class     Images  Instances      Box(P          R      mAP50  mAP50-95): 100%|██████████| 7/7 [00:01<00:00,  3.76it/s]"
          ]
        },
        {
          "output_type": "stream",
          "name": "stdout",
          "text": [
            "                   all        210        209       0.99          1      0.988      0.883\n"
          ]
        },
        {
          "output_type": "stream",
          "name": "stderr",
          "text": [
            "\n"
          ]
        },
        {
          "output_type": "stream",
          "name": "stdout",
          "text": [
            "\n",
            "      Epoch    GPU_mem   box_loss   cls_loss   dfl_loss  Instances       Size\n"
          ]
        },
        {
          "output_type": "stream",
          "name": "stderr",
          "text": [
            "      12/65      2.23G     0.5803     0.4129      1.047         13        640: 100%|██████████| 46/46 [00:16<00:00,  2.85it/s]\n",
            "                 Class     Images  Instances      Box(P          R      mAP50  mAP50-95): 100%|██████████| 7/7 [00:01<00:00,  3.60it/s]"
          ]
        },
        {
          "output_type": "stream",
          "name": "stdout",
          "text": [
            "                   all        210        209      0.962      0.986      0.989      0.871\n"
          ]
        },
        {
          "output_type": "stream",
          "name": "stderr",
          "text": [
            "\n"
          ]
        },
        {
          "output_type": "stream",
          "name": "stdout",
          "text": [
            "\n",
            "      Epoch    GPU_mem   box_loss   cls_loss   dfl_loss  Instances       Size\n"
          ]
        },
        {
          "output_type": "stream",
          "name": "stderr",
          "text": [
            "      13/65      2.23G     0.5481     0.4053      1.021         24        640: 100%|██████████| 46/46 [00:16<00:00,  2.72it/s]\n",
            "                 Class     Images  Instances      Box(P          R      mAP50  mAP50-95): 100%|██████████| 7/7 [00:01<00:00,  3.67it/s]"
          ]
        },
        {
          "output_type": "stream",
          "name": "stdout",
          "text": [
            "                   all        210        209      0.967      0.987      0.988       0.87\n"
          ]
        },
        {
          "output_type": "stream",
          "name": "stderr",
          "text": [
            "\n"
          ]
        },
        {
          "output_type": "stream",
          "name": "stdout",
          "text": [
            "\n",
            "      Epoch    GPU_mem   box_loss   cls_loss   dfl_loss  Instances       Size\n"
          ]
        },
        {
          "output_type": "stream",
          "name": "stderr",
          "text": [
            "      14/65      2.23G     0.5603     0.4076      1.038         18        640: 100%|██████████| 46/46 [00:15<00:00,  2.92it/s]\n",
            "                 Class     Images  Instances      Box(P          R      mAP50  mAP50-95): 100%|██████████| 7/7 [00:01<00:00,  3.56it/s]"
          ]
        },
        {
          "output_type": "stream",
          "name": "stdout",
          "text": [
            "                   all        210        209      0.975      0.995      0.986      0.907\n"
          ]
        },
        {
          "output_type": "stream",
          "name": "stderr",
          "text": [
            "\n"
          ]
        },
        {
          "output_type": "stream",
          "name": "stdout",
          "text": [
            "\n",
            "      Epoch    GPU_mem   box_loss   cls_loss   dfl_loss  Instances       Size\n"
          ]
        },
        {
          "output_type": "stream",
          "name": "stderr",
          "text": [
            "      15/65      2.23G     0.5397     0.3876       1.02         18        640: 100%|██████████| 46/46 [00:16<00:00,  2.73it/s]\n",
            "                 Class     Images  Instances      Box(P          R      mAP50  mAP50-95): 100%|██████████| 7/7 [00:01<00:00,  3.53it/s]"
          ]
        },
        {
          "output_type": "stream",
          "name": "stdout",
          "text": [
            "                   all        210        209      0.984      0.986      0.988      0.888\n"
          ]
        },
        {
          "output_type": "stream",
          "name": "stderr",
          "text": [
            "\n"
          ]
        },
        {
          "output_type": "stream",
          "name": "stdout",
          "text": [
            "\n",
            "      Epoch    GPU_mem   box_loss   cls_loss   dfl_loss  Instances       Size\n"
          ]
        },
        {
          "output_type": "stream",
          "name": "stderr",
          "text": [
            "      16/65      2.23G     0.5332     0.3737      1.021         14        640: 100%|██████████| 46/46 [00:16<00:00,  2.85it/s]\n",
            "                 Class     Images  Instances      Box(P          R      mAP50  mAP50-95): 100%|██████████| 7/7 [00:01<00:00,  3.63it/s]"
          ]
        },
        {
          "output_type": "stream",
          "name": "stdout",
          "text": [
            "                   all        210        209      0.986      0.999      0.986      0.899\n"
          ]
        },
        {
          "output_type": "stream",
          "name": "stderr",
          "text": [
            "\n"
          ]
        },
        {
          "output_type": "stream",
          "name": "stdout",
          "text": [
            "\n",
            "      Epoch    GPU_mem   box_loss   cls_loss   dfl_loss  Instances       Size\n"
          ]
        },
        {
          "output_type": "stream",
          "name": "stderr",
          "text": [
            "      17/65      2.23G     0.5384     0.3764      1.028         12        640: 100%|██████████| 46/46 [00:16<00:00,  2.75it/s]\n",
            "                 Class     Images  Instances      Box(P          R      mAP50  mAP50-95): 100%|██████████| 7/7 [00:01<00:00,  3.90it/s]"
          ]
        },
        {
          "output_type": "stream",
          "name": "stdout",
          "text": [
            "                   all        210        209      0.984          1      0.993      0.883\n"
          ]
        },
        {
          "output_type": "stream",
          "name": "stderr",
          "text": [
            "\n"
          ]
        },
        {
          "output_type": "stream",
          "name": "stdout",
          "text": [
            "\n",
            "      Epoch    GPU_mem   box_loss   cls_loss   dfl_loss  Instances       Size\n"
          ]
        },
        {
          "output_type": "stream",
          "name": "stderr",
          "text": [
            "      18/65      2.23G     0.5303      0.365      1.016         19        640: 100%|██████████| 46/46 [00:16<00:00,  2.83it/s]\n",
            "                 Class     Images  Instances      Box(P          R      mAP50  mAP50-95): 100%|██████████| 7/7 [00:01<00:00,  3.57it/s]"
          ]
        },
        {
          "output_type": "stream",
          "name": "stdout",
          "text": [
            "                   all        210        209      0.981      0.969      0.993      0.907\n"
          ]
        },
        {
          "output_type": "stream",
          "name": "stderr",
          "text": [
            "\n"
          ]
        },
        {
          "output_type": "stream",
          "name": "stdout",
          "text": [
            "\n",
            "      Epoch    GPU_mem   box_loss   cls_loss   dfl_loss  Instances       Size\n"
          ]
        },
        {
          "output_type": "stream",
          "name": "stderr",
          "text": [
            "      19/65      2.23G     0.5561     0.3785      1.023         14        640: 100%|██████████| 46/46 [00:16<00:00,  2.74it/s]\n",
            "                 Class     Images  Instances      Box(P          R      mAP50  mAP50-95): 100%|██████████| 7/7 [00:01<00:00,  4.03it/s]"
          ]
        },
        {
          "output_type": "stream",
          "name": "stdout",
          "text": [
            "                   all        210        209       0.99          1      0.992      0.914\n"
          ]
        },
        {
          "output_type": "stream",
          "name": "stderr",
          "text": [
            "\n"
          ]
        },
        {
          "output_type": "stream",
          "name": "stdout",
          "text": [
            "\n",
            "      Epoch    GPU_mem   box_loss   cls_loss   dfl_loss  Instances       Size\n"
          ]
        },
        {
          "output_type": "stream",
          "name": "stderr",
          "text": [
            "      20/65      2.23G     0.5302     0.3718      1.012         20        640: 100%|██████████| 46/46 [00:16<00:00,  2.74it/s]\n",
            "                 Class     Images  Instances      Box(P          R      mAP50  mAP50-95): 100%|██████████| 7/7 [00:01<00:00,  3.75it/s]"
          ]
        },
        {
          "output_type": "stream",
          "name": "stdout",
          "text": [
            "                   all        210        209       0.99       0.98      0.983      0.895\n"
          ]
        },
        {
          "output_type": "stream",
          "name": "stderr",
          "text": [
            "\n"
          ]
        },
        {
          "output_type": "stream",
          "name": "stdout",
          "text": [
            "\n",
            "      Epoch    GPU_mem   box_loss   cls_loss   dfl_loss  Instances       Size\n"
          ]
        },
        {
          "output_type": "stream",
          "name": "stderr",
          "text": [
            "      21/65      2.23G     0.5149     0.3567      1.006         22        640: 100%|██████████| 46/46 [00:16<00:00,  2.76it/s]\n",
            "                 Class     Images  Instances      Box(P          R      mAP50  mAP50-95): 100%|██████████| 7/7 [00:01<00:00,  3.67it/s]"
          ]
        },
        {
          "output_type": "stream",
          "name": "stdout",
          "text": [
            "                   all        210        209      0.991      0.998      0.992      0.926\n"
          ]
        },
        {
          "output_type": "stream",
          "name": "stderr",
          "text": [
            "\n"
          ]
        },
        {
          "output_type": "stream",
          "name": "stdout",
          "text": [
            "\n",
            "      Epoch    GPU_mem   box_loss   cls_loss   dfl_loss  Instances       Size\n"
          ]
        },
        {
          "output_type": "stream",
          "name": "stderr",
          "text": [
            "      22/65      2.23G       0.49     0.3539      1.002         15        640: 100%|██████████| 46/46 [00:16<00:00,  2.80it/s]\n",
            "                 Class     Images  Instances      Box(P          R      mAP50  mAP50-95): 100%|██████████| 7/7 [00:01<00:00,  3.71it/s]\n"
          ]
        },
        {
          "output_type": "stream",
          "name": "stdout",
          "text": [
            "                   all        210        209      0.989          1       0.99       0.93\n",
            "\n",
            "      Epoch    GPU_mem   box_loss   cls_loss   dfl_loss  Instances       Size\n"
          ]
        },
        {
          "output_type": "stream",
          "name": "stderr",
          "text": [
            "      23/65      2.23G     0.4922     0.3419      1.005         12        640: 100%|██████████| 46/46 [00:16<00:00,  2.76it/s]\n",
            "                 Class     Images  Instances      Box(P          R      mAP50  mAP50-95): 100%|██████████| 7/7 [00:01<00:00,  3.66it/s]"
          ]
        },
        {
          "output_type": "stream",
          "name": "stdout",
          "text": [
            "                   all        210        209       0.99          1      0.988      0.915\n"
          ]
        },
        {
          "output_type": "stream",
          "name": "stderr",
          "text": [
            "\n"
          ]
        },
        {
          "output_type": "stream",
          "name": "stdout",
          "text": [
            "\n",
            "      Epoch    GPU_mem   box_loss   cls_loss   dfl_loss  Instances       Size\n"
          ]
        },
        {
          "output_type": "stream",
          "name": "stderr",
          "text": [
            "      24/65      2.23G     0.4862     0.3432     0.9884         18        640: 100%|██████████| 46/46 [00:16<00:00,  2.74it/s]\n",
            "                 Class     Images  Instances      Box(P          R      mAP50  mAP50-95): 100%|██████████| 7/7 [00:01<00:00,  3.89it/s]"
          ]
        },
        {
          "output_type": "stream",
          "name": "stdout",
          "text": [
            "                   all        210        209       0.99          1      0.986      0.919\n"
          ]
        },
        {
          "output_type": "stream",
          "name": "stderr",
          "text": [
            "\n"
          ]
        },
        {
          "output_type": "stream",
          "name": "stdout",
          "text": [
            "\n",
            "      Epoch    GPU_mem   box_loss   cls_loss   dfl_loss  Instances       Size\n"
          ]
        },
        {
          "output_type": "stream",
          "name": "stderr",
          "text": [
            "      25/65      2.23G     0.4836     0.3401     0.9917         16        640: 100%|██████████| 46/46 [00:15<00:00,  2.89it/s]\n",
            "                 Class     Images  Instances      Box(P          R      mAP50  mAP50-95): 100%|██████████| 7/7 [00:01<00:00,  3.85it/s]"
          ]
        },
        {
          "output_type": "stream",
          "name": "stdout",
          "text": [
            "                   all        210        209       0.99          1      0.993      0.936\n"
          ]
        },
        {
          "output_type": "stream",
          "name": "stderr",
          "text": [
            "\n"
          ]
        },
        {
          "output_type": "stream",
          "name": "stdout",
          "text": [
            "\n",
            "      Epoch    GPU_mem   box_loss   cls_loss   dfl_loss  Instances       Size\n"
          ]
        },
        {
          "output_type": "stream",
          "name": "stderr",
          "text": [
            "      26/65      2.23G     0.4882     0.3308     0.9964         20        640: 100%|██████████| 46/46 [00:16<00:00,  2.80it/s]\n",
            "                 Class     Images  Instances      Box(P          R      mAP50  mAP50-95): 100%|██████████| 7/7 [00:01<00:00,  3.88it/s]"
          ]
        },
        {
          "output_type": "stream",
          "name": "stdout",
          "text": [
            "                   all        210        209       0.99          1      0.993      0.939\n"
          ]
        },
        {
          "output_type": "stream",
          "name": "stderr",
          "text": [
            "\n"
          ]
        },
        {
          "output_type": "stream",
          "name": "stdout",
          "text": [
            "\n",
            "      Epoch    GPU_mem   box_loss   cls_loss   dfl_loss  Instances       Size\n"
          ]
        },
        {
          "output_type": "stream",
          "name": "stderr",
          "text": [
            "      27/65      2.23G     0.4741     0.3239     0.9823         23        640: 100%|██████████| 46/46 [00:16<00:00,  2.80it/s]\n",
            "                 Class     Images  Instances      Box(P          R      mAP50  mAP50-95): 100%|██████████| 7/7 [00:01<00:00,  3.61it/s]"
          ]
        },
        {
          "output_type": "stream",
          "name": "stdout",
          "text": [
            "                   all        210        209      0.985          1      0.993      0.942\n"
          ]
        },
        {
          "output_type": "stream",
          "name": "stderr",
          "text": [
            "\n"
          ]
        },
        {
          "output_type": "stream",
          "name": "stdout",
          "text": [
            "\n",
            "      Epoch    GPU_mem   box_loss   cls_loss   dfl_loss  Instances       Size\n"
          ]
        },
        {
          "output_type": "stream",
          "name": "stderr",
          "text": [
            "      28/65      2.23G     0.4797     0.3217     0.9949         16        640: 100%|██████████| 46/46 [00:16<00:00,  2.76it/s]\n",
            "                 Class     Images  Instances      Box(P          R      mAP50  mAP50-95): 100%|██████████| 7/7 [00:01<00:00,  3.64it/s]"
          ]
        },
        {
          "output_type": "stream",
          "name": "stdout",
          "text": [
            "                   all        210        209       0.99          1       0.99      0.934\n"
          ]
        },
        {
          "output_type": "stream",
          "name": "stderr",
          "text": [
            "\n"
          ]
        },
        {
          "output_type": "stream",
          "name": "stdout",
          "text": [
            "\n",
            "      Epoch    GPU_mem   box_loss   cls_loss   dfl_loss  Instances       Size\n"
          ]
        },
        {
          "output_type": "stream",
          "name": "stderr",
          "text": [
            "      29/65      2.23G     0.4592     0.3165     0.9796         15        640: 100%|██████████| 46/46 [00:16<00:00,  2.78it/s]\n",
            "                 Class     Images  Instances      Box(P          R      mAP50  mAP50-95): 100%|██████████| 7/7 [00:01<00:00,  3.61it/s]"
          ]
        },
        {
          "output_type": "stream",
          "name": "stdout",
          "text": [
            "                   all        210        209      0.981          1      0.987      0.917\n"
          ]
        },
        {
          "output_type": "stream",
          "name": "stderr",
          "text": [
            "\n"
          ]
        },
        {
          "output_type": "stream",
          "name": "stdout",
          "text": [
            "\n",
            "      Epoch    GPU_mem   box_loss   cls_loss   dfl_loss  Instances       Size\n"
          ]
        },
        {
          "output_type": "stream",
          "name": "stderr",
          "text": [
            "      30/65      2.23G     0.4551      0.318     0.9938         17        640: 100%|██████████| 46/46 [00:16<00:00,  2.78it/s]\n",
            "                 Class     Images  Instances      Box(P          R      mAP50  mAP50-95): 100%|██████████| 7/7 [00:01<00:00,  3.88it/s]"
          ]
        },
        {
          "output_type": "stream",
          "name": "stdout",
          "text": [
            "                   all        210        209       0.99          1      0.993       0.93\n"
          ]
        },
        {
          "output_type": "stream",
          "name": "stderr",
          "text": [
            "\n"
          ]
        },
        {
          "output_type": "stream",
          "name": "stdout",
          "text": [
            "\n",
            "      Epoch    GPU_mem   box_loss   cls_loss   dfl_loss  Instances       Size\n"
          ]
        },
        {
          "output_type": "stream",
          "name": "stderr",
          "text": [
            "      31/65      2.23G     0.4506     0.3209     0.9834         19        640: 100%|██████████| 46/46 [00:16<00:00,  2.78it/s]\n",
            "                 Class     Images  Instances      Box(P          R      mAP50  mAP50-95): 100%|██████████| 7/7 [00:01<00:00,  3.79it/s]"
          ]
        },
        {
          "output_type": "stream",
          "name": "stdout",
          "text": [
            "                   all        210        209       0.99          1      0.989      0.938\n"
          ]
        },
        {
          "output_type": "stream",
          "name": "stderr",
          "text": [
            "\n"
          ]
        },
        {
          "output_type": "stream",
          "name": "stdout",
          "text": [
            "\n",
            "      Epoch    GPU_mem   box_loss   cls_loss   dfl_loss  Instances       Size\n"
          ]
        },
        {
          "output_type": "stream",
          "name": "stderr",
          "text": [
            "      32/65      2.23G     0.4526     0.3091     0.9795         21        640: 100%|██████████| 46/46 [00:16<00:00,  2.80it/s]\n",
            "                 Class     Images  Instances      Box(P          R      mAP50  mAP50-95): 100%|██████████| 7/7 [00:01<00:00,  3.54it/s]"
          ]
        },
        {
          "output_type": "stream",
          "name": "stdout",
          "text": [
            "                   all        210        209      0.972          1       0.98      0.918\n"
          ]
        },
        {
          "output_type": "stream",
          "name": "stderr",
          "text": [
            "\n"
          ]
        },
        {
          "output_type": "stream",
          "name": "stdout",
          "text": [
            "\n",
            "      Epoch    GPU_mem   box_loss   cls_loss   dfl_loss  Instances       Size\n"
          ]
        },
        {
          "output_type": "stream",
          "name": "stderr",
          "text": [
            "      33/65      2.23G     0.4424     0.3082     0.9743         10        640: 100%|██████████| 46/46 [00:16<00:00,  2.77it/s]\n",
            "                 Class     Images  Instances      Box(P          R      mAP50  mAP50-95): 100%|██████████| 7/7 [00:01<00:00,  4.08it/s]"
          ]
        },
        {
          "output_type": "stream",
          "name": "stdout",
          "text": [
            "                   all        210        209      0.986          1      0.991      0.943\n"
          ]
        },
        {
          "output_type": "stream",
          "name": "stderr",
          "text": [
            "\n"
          ]
        },
        {
          "output_type": "stream",
          "name": "stdout",
          "text": [
            "\n",
            "      Epoch    GPU_mem   box_loss   cls_loss   dfl_loss  Instances       Size\n"
          ]
        },
        {
          "output_type": "stream",
          "name": "stderr",
          "text": [
            "      34/65      2.23G     0.4422     0.3062      0.969         16        640: 100%|██████████| 46/46 [00:16<00:00,  2.75it/s]\n",
            "                 Class     Images  Instances      Box(P          R      mAP50  mAP50-95): 100%|██████████| 7/7 [00:01<00:00,  3.70it/s]"
          ]
        },
        {
          "output_type": "stream",
          "name": "stdout",
          "text": [
            "                   all        210        209       0.99          1      0.992       0.94\n"
          ]
        },
        {
          "output_type": "stream",
          "name": "stderr",
          "text": [
            "\n"
          ]
        },
        {
          "output_type": "stream",
          "name": "stdout",
          "text": [
            "\n",
            "      Epoch    GPU_mem   box_loss   cls_loss   dfl_loss  Instances       Size\n"
          ]
        },
        {
          "output_type": "stream",
          "name": "stderr",
          "text": [
            "      35/65      2.22G     0.4149     0.2951     0.9609         17        640: 100%|██████████| 46/46 [00:16<00:00,  2.82it/s]\n",
            "                 Class     Images  Instances      Box(P          R      mAP50  mAP50-95): 100%|██████████| 7/7 [00:02<00:00,  3.34it/s]"
          ]
        },
        {
          "output_type": "stream",
          "name": "stdout",
          "text": [
            "                   all        210        209       0.99          1      0.993      0.936\n"
          ]
        },
        {
          "output_type": "stream",
          "name": "stderr",
          "text": [
            "\n"
          ]
        },
        {
          "output_type": "stream",
          "name": "stdout",
          "text": [
            "\n",
            "      Epoch    GPU_mem   box_loss   cls_loss   dfl_loss  Instances       Size\n"
          ]
        },
        {
          "output_type": "stream",
          "name": "stderr",
          "text": [
            "      36/65      2.23G     0.4266     0.2926     0.9612         13        640: 100%|██████████| 46/46 [00:16<00:00,  2.76it/s]\n",
            "                 Class     Images  Instances      Box(P          R      mAP50  mAP50-95): 100%|██████████| 7/7 [00:01<00:00,  3.63it/s]"
          ]
        },
        {
          "output_type": "stream",
          "name": "stdout",
          "text": [
            "                   all        210        209       0.99          1      0.992      0.943\n"
          ]
        },
        {
          "output_type": "stream",
          "name": "stderr",
          "text": [
            "\n"
          ]
        },
        {
          "output_type": "stream",
          "name": "stdout",
          "text": [
            "\n",
            "      Epoch    GPU_mem   box_loss   cls_loss   dfl_loss  Instances       Size\n"
          ]
        },
        {
          "output_type": "stream",
          "name": "stderr",
          "text": [
            "      37/65      2.23G     0.4244     0.2951      0.968         14        640: 100%|██████████| 46/46 [00:16<00:00,  2.79it/s]\n",
            "                 Class     Images  Instances      Box(P          R      mAP50  mAP50-95): 100%|██████████| 7/7 [00:01<00:00,  3.61it/s]\n"
          ]
        },
        {
          "output_type": "stream",
          "name": "stdout",
          "text": [
            "                   all        210        209       0.99          1      0.988      0.951\n",
            "\n",
            "      Epoch    GPU_mem   box_loss   cls_loss   dfl_loss  Instances       Size\n"
          ]
        },
        {
          "output_type": "stream",
          "name": "stderr",
          "text": [
            "      38/65      2.23G     0.4162     0.2948     0.9603         10        640: 100%|██████████| 46/46 [00:16<00:00,  2.86it/s]\n",
            "                 Class     Images  Instances      Box(P          R      mAP50  mAP50-95): 100%|██████████| 7/7 [00:01<00:00,  3.58it/s]"
          ]
        },
        {
          "output_type": "stream",
          "name": "stdout",
          "text": [
            "                   all        210        209       0.99          1      0.988      0.934\n"
          ]
        },
        {
          "output_type": "stream",
          "name": "stderr",
          "text": [
            "\n"
          ]
        },
        {
          "output_type": "stream",
          "name": "stdout",
          "text": [
            "\n",
            "      Epoch    GPU_mem   box_loss   cls_loss   dfl_loss  Instances       Size\n"
          ]
        },
        {
          "output_type": "stream",
          "name": "stderr",
          "text": [
            "      39/65      2.23G     0.4143     0.2861     0.9603         18        640: 100%|██████████| 46/46 [00:16<00:00,  2.73it/s]\n",
            "                 Class     Images  Instances      Box(P          R      mAP50  mAP50-95): 100%|██████████| 7/7 [00:01<00:00,  3.70it/s]"
          ]
        },
        {
          "output_type": "stream",
          "name": "stdout",
          "text": [
            "                   all        210        209       0.99          1      0.994      0.949\n"
          ]
        },
        {
          "output_type": "stream",
          "name": "stderr",
          "text": [
            "\n"
          ]
        },
        {
          "output_type": "stream",
          "name": "stdout",
          "text": [
            "\n",
            "      Epoch    GPU_mem   box_loss   cls_loss   dfl_loss  Instances       Size\n"
          ]
        },
        {
          "output_type": "stream",
          "name": "stderr",
          "text": [
            "      40/65      2.23G      0.414     0.2822     0.9643         15        640: 100%|██████████| 46/46 [00:16<00:00,  2.78it/s]\n",
            "                 Class     Images  Instances      Box(P          R      mAP50  mAP50-95): 100%|██████████| 7/7 [00:02<00:00,  3.48it/s]"
          ]
        },
        {
          "output_type": "stream",
          "name": "stdout",
          "text": [
            "                   all        210        209       0.99          1      0.991      0.954\n"
          ]
        },
        {
          "output_type": "stream",
          "name": "stderr",
          "text": [
            "\n"
          ]
        },
        {
          "output_type": "stream",
          "name": "stdout",
          "text": [
            "\n",
            "      Epoch    GPU_mem   box_loss   cls_loss   dfl_loss  Instances       Size\n"
          ]
        },
        {
          "output_type": "stream",
          "name": "stderr",
          "text": [
            "      41/65      2.23G     0.4233     0.2824     0.9634         14        640: 100%|██████████| 46/46 [00:16<00:00,  2.77it/s]\n",
            "                 Class     Images  Instances      Box(P          R      mAP50  mAP50-95): 100%|██████████| 7/7 [00:01<00:00,  4.04it/s]"
          ]
        },
        {
          "output_type": "stream",
          "name": "stdout",
          "text": [
            "                   all        210        209      0.991      0.999      0.993      0.954\n"
          ]
        },
        {
          "output_type": "stream",
          "name": "stderr",
          "text": [
            "\n"
          ]
        },
        {
          "output_type": "stream",
          "name": "stdout",
          "text": [
            "\n",
            "      Epoch    GPU_mem   box_loss   cls_loss   dfl_loss  Instances       Size\n"
          ]
        },
        {
          "output_type": "stream",
          "name": "stderr",
          "text": [
            "      42/65      2.23G     0.4026      0.274     0.9527         12        640: 100%|██████████| 46/46 [00:16<00:00,  2.84it/s]\n",
            "                 Class     Images  Instances      Box(P          R      mAP50  mAP50-95): 100%|██████████| 7/7 [00:01<00:00,  3.61it/s]"
          ]
        },
        {
          "output_type": "stream",
          "name": "stdout",
          "text": [
            "                   all        210        209       0.99          1      0.986      0.954\n"
          ]
        },
        {
          "output_type": "stream",
          "name": "stderr",
          "text": [
            "\n"
          ]
        },
        {
          "output_type": "stream",
          "name": "stdout",
          "text": [
            "\n",
            "      Epoch    GPU_mem   box_loss   cls_loss   dfl_loss  Instances       Size\n"
          ]
        },
        {
          "output_type": "stream",
          "name": "stderr",
          "text": [
            "      43/65      2.23G      0.381     0.2772     0.9441         17        640: 100%|██████████| 46/46 [00:16<00:00,  2.78it/s]\n",
            "                 Class     Images  Instances      Box(P          R      mAP50  mAP50-95): 100%|██████████| 7/7 [00:01<00:00,  3.51it/s]"
          ]
        },
        {
          "output_type": "stream",
          "name": "stdout",
          "text": [
            "                   all        210        209       0.99          1      0.987       0.95\n"
          ]
        },
        {
          "output_type": "stream",
          "name": "stderr",
          "text": [
            "\n"
          ]
        },
        {
          "output_type": "stream",
          "name": "stdout",
          "text": [
            "\n",
            "      Epoch    GPU_mem   box_loss   cls_loss   dfl_loss  Instances       Size\n"
          ]
        },
        {
          "output_type": "stream",
          "name": "stderr",
          "text": [
            "      44/65      2.23G     0.3815     0.2634     0.9433         12        640: 100%|██████████| 46/46 [00:16<00:00,  2.77it/s]\n",
            "                 Class     Images  Instances      Box(P          R      mAP50  mAP50-95): 100%|██████████| 7/7 [00:01<00:00,  3.66it/s]"
          ]
        },
        {
          "output_type": "stream",
          "name": "stdout",
          "text": [
            "                   all        210        209       0.99          1      0.986      0.954\n"
          ]
        },
        {
          "output_type": "stream",
          "name": "stderr",
          "text": [
            "\n"
          ]
        },
        {
          "output_type": "stream",
          "name": "stdout",
          "text": [
            "\n",
            "      Epoch    GPU_mem   box_loss   cls_loss   dfl_loss  Instances       Size\n"
          ]
        },
        {
          "output_type": "stream",
          "name": "stderr",
          "text": [
            "      45/65      2.23G     0.3764      0.267     0.9446         14        640: 100%|██████████| 46/46 [00:16<00:00,  2.78it/s]\n",
            "                 Class     Images  Instances      Box(P          R      mAP50  mAP50-95): 100%|██████████| 7/7 [00:01<00:00,  3.85it/s]"
          ]
        },
        {
          "output_type": "stream",
          "name": "stdout",
          "text": [
            "                   all        210        209       0.99          1      0.994      0.965\n"
          ]
        },
        {
          "output_type": "stream",
          "name": "stderr",
          "text": [
            "\n"
          ]
        },
        {
          "output_type": "stream",
          "name": "stdout",
          "text": [
            "\n",
            "      Epoch    GPU_mem   box_loss   cls_loss   dfl_loss  Instances       Size\n"
          ]
        },
        {
          "output_type": "stream",
          "name": "stderr",
          "text": [
            "      46/65      2.23G     0.3841      0.263     0.9428         13        640: 100%|██████████| 46/46 [00:16<00:00,  2.84it/s]\n",
            "                 Class     Images  Instances      Box(P          R      mAP50  mAP50-95): 100%|██████████| 7/7 [00:01<00:00,  3.85it/s]"
          ]
        },
        {
          "output_type": "stream",
          "name": "stdout",
          "text": [
            "                   all        210        209       0.99          1      0.994      0.963\n"
          ]
        },
        {
          "output_type": "stream",
          "name": "stderr",
          "text": [
            "\n"
          ]
        },
        {
          "output_type": "stream",
          "name": "stdout",
          "text": [
            "\n",
            "      Epoch    GPU_mem   box_loss   cls_loss   dfl_loss  Instances       Size\n"
          ]
        },
        {
          "output_type": "stream",
          "name": "stderr",
          "text": [
            "      47/65      2.23G      0.377      0.261     0.9348         15        640: 100%|██████████| 46/46 [00:16<00:00,  2.73it/s]\n",
            "                 Class     Images  Instances      Box(P          R      mAP50  mAP50-95): 100%|██████████| 7/7 [00:01<00:00,  3.65it/s]"
          ]
        },
        {
          "output_type": "stream",
          "name": "stdout",
          "text": [
            "                   all        210        209       0.99          1      0.993      0.973\n"
          ]
        },
        {
          "output_type": "stream",
          "name": "stderr",
          "text": [
            "\n"
          ]
        },
        {
          "output_type": "stream",
          "name": "stdout",
          "text": [
            "\n",
            "      Epoch    GPU_mem   box_loss   cls_loss   dfl_loss  Instances       Size\n"
          ]
        },
        {
          "output_type": "stream",
          "name": "stderr",
          "text": [
            "      48/65      2.23G     0.3815     0.2645     0.9465         15        640: 100%|██████████| 46/46 [00:16<00:00,  2.82it/s]\n",
            "                 Class     Images  Instances      Box(P          R      mAP50  mAP50-95): 100%|██████████| 7/7 [00:02<00:00,  3.49it/s]"
          ]
        },
        {
          "output_type": "stream",
          "name": "stdout",
          "text": [
            "                   all        210        209       0.99          1      0.994      0.969\n"
          ]
        },
        {
          "output_type": "stream",
          "name": "stderr",
          "text": [
            "\n"
          ]
        },
        {
          "output_type": "stream",
          "name": "stdout",
          "text": [
            "\n",
            "      Epoch    GPU_mem   box_loss   cls_loss   dfl_loss  Instances       Size\n"
          ]
        },
        {
          "output_type": "stream",
          "name": "stderr",
          "text": [
            "      49/65      2.23G     0.3682     0.2514     0.9416         18        640: 100%|██████████| 46/46 [00:16<00:00,  2.73it/s]\n",
            "                 Class     Images  Instances      Box(P          R      mAP50  mAP50-95): 100%|██████████| 7/7 [00:01<00:00,  3.50it/s]"
          ]
        },
        {
          "output_type": "stream",
          "name": "stdout",
          "text": [
            "                   all        210        209       0.99          1      0.993      0.968\n"
          ]
        },
        {
          "output_type": "stream",
          "name": "stderr",
          "text": [
            "\n"
          ]
        },
        {
          "output_type": "stream",
          "name": "stdout",
          "text": [
            "\n",
            "      Epoch    GPU_mem   box_loss   cls_loss   dfl_loss  Instances       Size\n"
          ]
        },
        {
          "output_type": "stream",
          "name": "stderr",
          "text": [
            "      50/65      2.23G     0.3597       0.25     0.9295         15        640: 100%|██████████| 46/46 [00:16<00:00,  2.81it/s]\n",
            "                 Class     Images  Instances      Box(P          R      mAP50  mAP50-95): 100%|██████████| 7/7 [00:02<00:00,  3.35it/s]"
          ]
        },
        {
          "output_type": "stream",
          "name": "stdout",
          "text": [
            "                   all        210        209       0.99          1      0.992      0.963\n"
          ]
        },
        {
          "output_type": "stream",
          "name": "stderr",
          "text": [
            "\n"
          ]
        },
        {
          "output_type": "stream",
          "name": "stdout",
          "text": [
            "\n",
            "      Epoch    GPU_mem   box_loss   cls_loss   dfl_loss  Instances       Size\n"
          ]
        },
        {
          "output_type": "stream",
          "name": "stderr",
          "text": [
            "      51/65      2.23G     0.3619     0.2528     0.9348         15        640: 100%|██████████| 46/46 [00:16<00:00,  2.82it/s]\n",
            "                 Class     Images  Instances      Box(P          R      mAP50  mAP50-95): 100%|██████████| 7/7 [00:01<00:00,  3.85it/s]"
          ]
        },
        {
          "output_type": "stream",
          "name": "stdout",
          "text": [
            "                   all        210        209       0.99          1      0.994      0.965\n"
          ]
        },
        {
          "output_type": "stream",
          "name": "stderr",
          "text": [
            "\n"
          ]
        },
        {
          "output_type": "stream",
          "name": "stdout",
          "text": [
            "\n",
            "      Epoch    GPU_mem   box_loss   cls_loss   dfl_loss  Instances       Size\n"
          ]
        },
        {
          "output_type": "stream",
          "name": "stderr",
          "text": [
            "      52/65      2.23G     0.3647     0.2472     0.9326         11        640: 100%|██████████| 46/46 [00:16<00:00,  2.80it/s]\n",
            "                 Class     Images  Instances      Box(P          R      mAP50  mAP50-95): 100%|██████████| 7/7 [00:01<00:00,  3.85it/s]"
          ]
        },
        {
          "output_type": "stream",
          "name": "stdout",
          "text": [
            "                   all        210        209       0.99          1      0.995      0.973\n"
          ]
        },
        {
          "output_type": "stream",
          "name": "stderr",
          "text": [
            "\n"
          ]
        },
        {
          "output_type": "stream",
          "name": "stdout",
          "text": [
            "\n",
            "      Epoch    GPU_mem   box_loss   cls_loss   dfl_loss  Instances       Size\n"
          ]
        },
        {
          "output_type": "stream",
          "name": "stderr",
          "text": [
            "      53/65      2.23G      0.356     0.2409     0.9335         16        640: 100%|██████████| 46/46 [00:15<00:00,  2.98it/s]\n",
            "                 Class     Images  Instances      Box(P          R      mAP50  mAP50-95): 100%|██████████| 7/7 [00:01<00:00,  3.92it/s]"
          ]
        },
        {
          "output_type": "stream",
          "name": "stdout",
          "text": [
            "                   all        210        209       0.99          1      0.994      0.973\n"
          ]
        },
        {
          "output_type": "stream",
          "name": "stderr",
          "text": [
            "\n"
          ]
        },
        {
          "output_type": "stream",
          "name": "stdout",
          "text": [
            "\n",
            "      Epoch    GPU_mem   box_loss   cls_loss   dfl_loss  Instances       Size\n"
          ]
        },
        {
          "output_type": "stream",
          "name": "stderr",
          "text": [
            "      54/65      2.23G     0.3666     0.2566     0.9406          9        640: 100%|██████████| 46/46 [00:16<00:00,  2.82it/s]\n",
            "                 Class     Images  Instances      Box(P          R      mAP50  mAP50-95): 100%|██████████| 7/7 [00:02<00:00,  3.41it/s]"
          ]
        },
        {
          "output_type": "stream",
          "name": "stdout",
          "text": [
            "                   all        210        209       0.99          1      0.994      0.969\n"
          ]
        },
        {
          "output_type": "stream",
          "name": "stderr",
          "text": [
            "\n"
          ]
        },
        {
          "output_type": "stream",
          "name": "stdout",
          "text": [
            "\n",
            "      Epoch    GPU_mem   box_loss   cls_loss   dfl_loss  Instances       Size\n"
          ]
        },
        {
          "output_type": "stream",
          "name": "stderr",
          "text": [
            "      55/65      2.23G     0.3475      0.254     0.9361         12        640: 100%|██████████| 46/46 [00:16<00:00,  2.76it/s]\n",
            "                 Class     Images  Instances      Box(P          R      mAP50  mAP50-95): 100%|██████████| 7/7 [00:01<00:00,  3.58it/s]"
          ]
        },
        {
          "output_type": "stream",
          "name": "stdout",
          "text": [
            "                   all        210        209       0.99          1      0.995      0.967\n"
          ]
        },
        {
          "output_type": "stream",
          "name": "stderr",
          "text": [
            "\n"
          ]
        },
        {
          "output_type": "stream",
          "name": "stdout",
          "text": [
            "Closing dataloader mosaic\n",
            "\u001b[34m\u001b[1malbumentations: \u001b[0mBlur(p=0.01, blur_limit=(3, 7)), MedianBlur(p=0.01, blur_limit=(3, 7)), ToGray(p=0.01, num_output_channels=3, method='weighted_average'), CLAHE(p=0.01, clip_limit=(1.0, 4.0), tile_grid_size=(8, 8))\n",
            "\n",
            "      Epoch    GPU_mem   box_loss   cls_loss   dfl_loss  Instances       Size\n"
          ]
        },
        {
          "output_type": "stream",
          "name": "stderr",
          "text": [
            "      56/65      2.23G     0.2707     0.1918     0.8747          7        640: 100%|██████████| 46/46 [00:16<00:00,  2.74it/s]\n",
            "                 Class     Images  Instances      Box(P          R      mAP50  mAP50-95): 100%|██████████| 7/7 [00:01<00:00,  3.69it/s]"
          ]
        },
        {
          "output_type": "stream",
          "name": "stdout",
          "text": [
            "                   all        210        209       0.99          1      0.993      0.962\n"
          ]
        },
        {
          "output_type": "stream",
          "name": "stderr",
          "text": [
            "\n"
          ]
        },
        {
          "output_type": "stream",
          "name": "stdout",
          "text": [
            "\n",
            "      Epoch    GPU_mem   box_loss   cls_loss   dfl_loss  Instances       Size\n"
          ]
        },
        {
          "output_type": "stream",
          "name": "stderr",
          "text": [
            "      57/65      2.23G     0.2636     0.1884     0.8791          7        640: 100%|██████████| 46/46 [00:14<00:00,  3.12it/s]\n",
            "                 Class     Images  Instances      Box(P          R      mAP50  mAP50-95): 100%|██████████| 7/7 [00:02<00:00,  3.33it/s]"
          ]
        },
        {
          "output_type": "stream",
          "name": "stdout",
          "text": [
            "                   all        210        209       0.99          1      0.993      0.969\n"
          ]
        },
        {
          "output_type": "stream",
          "name": "stderr",
          "text": [
            "\n"
          ]
        },
        {
          "output_type": "stream",
          "name": "stdout",
          "text": [
            "\n",
            "      Epoch    GPU_mem   box_loss   cls_loss   dfl_loss  Instances       Size\n"
          ]
        },
        {
          "output_type": "stream",
          "name": "stderr",
          "text": [
            "      58/65      2.22G     0.2693     0.1942     0.8804          7        640: 100%|██████████| 46/46 [00:13<00:00,  3.33it/s]\n",
            "                 Class     Images  Instances      Box(P          R      mAP50  mAP50-95): 100%|██████████| 7/7 [00:03<00:00,  1.93it/s]"
          ]
        },
        {
          "output_type": "stream",
          "name": "stdout",
          "text": [
            "                   all        210        209       0.99          1      0.994       0.97\n"
          ]
        },
        {
          "output_type": "stream",
          "name": "stderr",
          "text": [
            "\n"
          ]
        },
        {
          "output_type": "stream",
          "name": "stdout",
          "text": [
            "\n",
            "      Epoch    GPU_mem   box_loss   cls_loss   dfl_loss  Instances       Size\n"
          ]
        },
        {
          "output_type": "stream",
          "name": "stderr",
          "text": [
            "      59/65      2.22G     0.2394     0.1749     0.8639          7        640: 100%|██████████| 46/46 [00:13<00:00,  3.49it/s]\n",
            "                 Class     Images  Instances      Box(P          R      mAP50  mAP50-95): 100%|██████████| 7/7 [00:03<00:00,  2.15it/s]"
          ]
        },
        {
          "output_type": "stream",
          "name": "stdout",
          "text": [
            "                   all        210        209       0.99          1      0.994      0.971\n"
          ]
        },
        {
          "output_type": "stream",
          "name": "stderr",
          "text": [
            "\n"
          ]
        },
        {
          "output_type": "stream",
          "name": "stdout",
          "text": [
            "\n",
            "      Epoch    GPU_mem   box_loss   cls_loss   dfl_loss  Instances       Size\n"
          ]
        },
        {
          "output_type": "stream",
          "name": "stderr",
          "text": [
            "      60/65      2.23G      0.249     0.1737     0.8598          8        640: 100%|██████████| 46/46 [00:12<00:00,  3.58it/s]\n",
            "                 Class     Images  Instances      Box(P          R      mAP50  mAP50-95): 100%|██████████| 7/7 [00:03<00:00,  2.10it/s]"
          ]
        },
        {
          "output_type": "stream",
          "name": "stdout",
          "text": [
            "                   all        210        209       0.99          1      0.991       0.97\n"
          ]
        },
        {
          "output_type": "stream",
          "name": "stderr",
          "text": [
            "\n"
          ]
        },
        {
          "output_type": "stream",
          "name": "stdout",
          "text": [
            "\n",
            "      Epoch    GPU_mem   box_loss   cls_loss   dfl_loss  Instances       Size\n"
          ]
        },
        {
          "output_type": "stream",
          "name": "stderr",
          "text": [
            "      61/65      2.23G     0.2393     0.1687     0.8604          7        640: 100%|██████████| 46/46 [00:15<00:00,  3.04it/s]\n",
            "                 Class     Images  Instances      Box(P          R      mAP50  mAP50-95): 100%|██████████| 7/7 [00:03<00:00,  2.26it/s]"
          ]
        },
        {
          "output_type": "stream",
          "name": "stdout",
          "text": [
            "                   all        210        209       0.99          1      0.993      0.977\n"
          ]
        },
        {
          "output_type": "stream",
          "name": "stderr",
          "text": [
            "\n"
          ]
        },
        {
          "output_type": "stream",
          "name": "stdout",
          "text": [
            "\n",
            "      Epoch    GPU_mem   box_loss   cls_loss   dfl_loss  Instances       Size\n"
          ]
        },
        {
          "output_type": "stream",
          "name": "stderr",
          "text": [
            "      62/65      2.22G     0.2389     0.1681     0.8671          7        640: 100%|██████████| 46/46 [00:13<00:00,  3.43it/s]\n",
            "                 Class     Images  Instances      Box(P          R      mAP50  mAP50-95): 100%|██████████| 7/7 [00:03<00:00,  2.17it/s]"
          ]
        },
        {
          "output_type": "stream",
          "name": "stdout",
          "text": [
            "                   all        210        209       0.99          1       0.99       0.97\n"
          ]
        },
        {
          "output_type": "stream",
          "name": "stderr",
          "text": [
            "\n"
          ]
        },
        {
          "output_type": "stream",
          "name": "stdout",
          "text": [
            "\n",
            "      Epoch    GPU_mem   box_loss   cls_loss   dfl_loss  Instances       Size\n"
          ]
        },
        {
          "output_type": "stream",
          "name": "stderr",
          "text": [
            "      63/65      2.23G     0.2343     0.1664     0.8553          7        640: 100%|██████████| 46/46 [00:13<00:00,  3.38it/s]\n",
            "                 Class     Images  Instances      Box(P          R      mAP50  mAP50-95): 100%|██████████| 7/7 [00:02<00:00,  2.46it/s]"
          ]
        },
        {
          "output_type": "stream",
          "name": "stdout",
          "text": [
            "                   all        210        209       0.99          1      0.989      0.969\n"
          ]
        },
        {
          "output_type": "stream",
          "name": "stderr",
          "text": [
            "\n"
          ]
        },
        {
          "output_type": "stream",
          "name": "stdout",
          "text": [
            "\n",
            "      Epoch    GPU_mem   box_loss   cls_loss   dfl_loss  Instances       Size\n"
          ]
        },
        {
          "output_type": "stream",
          "name": "stderr",
          "text": [
            "      64/65      2.22G     0.2325     0.1641     0.8665          7        640: 100%|██████████| 46/46 [00:14<00:00,  3.18it/s]\n",
            "                 Class     Images  Instances      Box(P          R      mAP50  mAP50-95): 100%|██████████| 7/7 [00:02<00:00,  3.11it/s]"
          ]
        },
        {
          "output_type": "stream",
          "name": "stdout",
          "text": [
            "                   all        210        209       0.99          1      0.991      0.972\n"
          ]
        },
        {
          "output_type": "stream",
          "name": "stderr",
          "text": [
            "\n"
          ]
        },
        {
          "output_type": "stream",
          "name": "stdout",
          "text": [
            "\n",
            "      Epoch    GPU_mem   box_loss   cls_loss   dfl_loss  Instances       Size\n"
          ]
        },
        {
          "output_type": "stream",
          "name": "stderr",
          "text": [
            "      65/65      2.23G     0.2319     0.1629     0.8503          7        640: 100%|██████████| 46/46 [00:15<00:00,  3.02it/s]\n",
            "                 Class     Images  Instances      Box(P          R      mAP50  mAP50-95): 100%|██████████| 7/7 [00:01<00:00,  3.70it/s]"
          ]
        },
        {
          "output_type": "stream",
          "name": "stdout",
          "text": [
            "                   all        210        209       0.99          1      0.992      0.974\n"
          ]
        },
        {
          "output_type": "stream",
          "name": "stderr",
          "text": [
            "\n"
          ]
        },
        {
          "output_type": "stream",
          "name": "stdout",
          "text": [
            "\n",
            "65 epochs completed in 0.346 hours.\n",
            "Optimizer stripped from runs/detect/train/weights/last.pt, 6.3MB\n",
            "Optimizer stripped from runs/detect/train/weights/best.pt, 6.3MB\n",
            "\n",
            "Validating runs/detect/train/weights/best.pt...\n",
            "Ultralytics 8.3.38 🚀 Python-3.10.12 torch-2.5.1+cu121 CUDA:0 (Tesla T4, 15102MiB)\n",
            "Model summary (fused): 168 layers, 3,005,843 parameters, 0 gradients, 8.1 GFLOPs\n"
          ]
        },
        {
          "output_type": "stream",
          "name": "stderr",
          "text": [
            "                 Class     Images  Instances      Box(P          R      mAP50  mAP50-95): 100%|██████████| 7/7 [00:05<00:00,  1.20it/s]\n"
          ]
        },
        {
          "output_type": "stream",
          "name": "stdout",
          "text": [
            "                   all        210        209       0.99          1      0.993      0.976\n",
            "Speed: 0.3ms preprocess, 3.1ms inference, 0.0ms loss, 6.2ms postprocess per image\n",
            "Results saved to \u001b[1mruns/detect/train\u001b[0m\n"
          ]
        }
      ]
    },
    {
      "cell_type": "code",
      "source": [
        "import zipfile\n",
        "import os\n",
        "\n",
        "def zip_dir(folder_path, output_path):\n",
        "    with zipfile.ZipFile(output_path, 'w', zipfile.ZIP_DEFLATED) as zipf:\n",
        "        for root, _, files in os.walk(folder_path):\n",
        "            for file in files:\n",
        "                zipf.write(os.path.join(root, file), os.path.relpath(os.path.join(root, file), folder_path))\n",
        "\n",
        "folder_to_zip = '/content/runs/detect/train'\n",
        "zip_output_path = '/content/runs/noparking.zip'\n",
        "\n",
        "zip_dir(folder_to_zip, zip_output_path)"
      ],
      "metadata": {
        "id": "euhiS7REpo5G"
      },
      "execution_count": 5,
      "outputs": []
    },
    {
      "cell_type": "code",
      "source": [
        "import ultralytics\n",
        "from ultralytics import YOLO\n",
        "\n",
        "model = YOLO('/content/runs/detect/train/weights/best.pt')\n",
        "results = model.track(source='/content/drive/MyDrive/TESTING_SCAP12/rambu_test2.mp4', save=True)"
      ],
      "metadata": {
        "colab": {
          "base_uri": "https://localhost:8080/"
        },
        "id": "Zhp_VcDUD67Q",
        "outputId": "a55d4567-180b-42c7-c229-5c8b17843b54"
      },
      "execution_count": 8,
      "outputs": [
        {
          "output_type": "stream",
          "name": "stdout",
          "text": [
            "\n",
            "\n",
            "WARNING ⚠️ inference results will accumulate in RAM unless `stream=True` is passed, causing potential out-of-memory\n",
            "errors for large sources or long-running streams and videos. See https://docs.ultralytics.com/modes/predict/ for help.\n",
            "\n",
            "Example:\n",
            "    results = model(source=..., stream=True)  # generator of Results objects\n",
            "    for r in results:\n",
            "        boxes = r.boxes  # Boxes object for bbox outputs\n",
            "        masks = r.masks  # Masks object for segment masks outputs\n",
            "        probs = r.probs  # Class probabilities for classification outputs\n",
            "\n",
            "video 1/1 (frame 1/164) /content/drive/MyDrive/TESTING_SCAP12/rambu_test2.mp4: 640x384 (no detections), 8.0ms\n",
            "video 1/1 (frame 2/164) /content/drive/MyDrive/TESTING_SCAP12/rambu_test2.mp4: 640x384 1 noparking, 9.6ms\n",
            "video 1/1 (frame 3/164) /content/drive/MyDrive/TESTING_SCAP12/rambu_test2.mp4: 640x384 1 noparking, 9.0ms\n",
            "video 1/1 (frame 4/164) /content/drive/MyDrive/TESTING_SCAP12/rambu_test2.mp4: 640x384 (no detections), 16.1ms\n",
            "video 1/1 (frame 5/164) /content/drive/MyDrive/TESTING_SCAP12/rambu_test2.mp4: 640x384 1 noparking, 9.6ms\n",
            "video 1/1 (frame 6/164) /content/drive/MyDrive/TESTING_SCAP12/rambu_test2.mp4: 640x384 1 noparking, 10.0ms\n",
            "video 1/1 (frame 7/164) /content/drive/MyDrive/TESTING_SCAP12/rambu_test2.mp4: 640x384 1 noparking, 15.7ms\n",
            "video 1/1 (frame 8/164) /content/drive/MyDrive/TESTING_SCAP12/rambu_test2.mp4: 640x384 1 noparking, 11.4ms\n",
            "video 1/1 (frame 9/164) /content/drive/MyDrive/TESTING_SCAP12/rambu_test2.mp4: 640x384 (no detections), 10.0ms\n",
            "video 1/1 (frame 10/164) /content/drive/MyDrive/TESTING_SCAP12/rambu_test2.mp4: 640x384 (no detections), 10.6ms\n",
            "video 1/1 (frame 11/164) /content/drive/MyDrive/TESTING_SCAP12/rambu_test2.mp4: 640x384 1 noparking, 10.5ms\n",
            "video 1/1 (frame 12/164) /content/drive/MyDrive/TESTING_SCAP12/rambu_test2.mp4: 640x384 (no detections), 9.8ms\n",
            "video 1/1 (frame 13/164) /content/drive/MyDrive/TESTING_SCAP12/rambu_test2.mp4: 640x384 1 noparking, 11.6ms\n",
            "video 1/1 (frame 14/164) /content/drive/MyDrive/TESTING_SCAP12/rambu_test2.mp4: 640x384 1 noparking, 9.7ms\n",
            "video 1/1 (frame 15/164) /content/drive/MyDrive/TESTING_SCAP12/rambu_test2.mp4: 640x384 (no detections), 9.3ms\n",
            "video 1/1 (frame 16/164) /content/drive/MyDrive/TESTING_SCAP12/rambu_test2.mp4: 640x384 (no detections), 7.9ms\n",
            "video 1/1 (frame 17/164) /content/drive/MyDrive/TESTING_SCAP12/rambu_test2.mp4: 640x384 1 noparking, 6.9ms\n",
            "video 1/1 (frame 18/164) /content/drive/MyDrive/TESTING_SCAP12/rambu_test2.mp4: 640x384 1 noparking, 9.6ms\n",
            "video 1/1 (frame 19/164) /content/drive/MyDrive/TESTING_SCAP12/rambu_test2.mp4: 640x384 1 noparking, 9.5ms\n",
            "video 1/1 (frame 20/164) /content/drive/MyDrive/TESTING_SCAP12/rambu_test2.mp4: 640x384 1 noparking, 9.3ms\n",
            "video 1/1 (frame 21/164) /content/drive/MyDrive/TESTING_SCAP12/rambu_test2.mp4: 640x384 1 noparking, 10.0ms\n",
            "video 1/1 (frame 22/164) /content/drive/MyDrive/TESTING_SCAP12/rambu_test2.mp4: 640x384 1 noparking, 8.5ms\n",
            "video 1/1 (frame 23/164) /content/drive/MyDrive/TESTING_SCAP12/rambu_test2.mp4: 640x384 1 noparking, 9.8ms\n",
            "video 1/1 (frame 24/164) /content/drive/MyDrive/TESTING_SCAP12/rambu_test2.mp4: 640x384 1 noparking, 18.6ms\n",
            "video 1/1 (frame 25/164) /content/drive/MyDrive/TESTING_SCAP12/rambu_test2.mp4: 640x384 1 noparking, 8.8ms\n",
            "video 1/1 (frame 26/164) /content/drive/MyDrive/TESTING_SCAP12/rambu_test2.mp4: 640x384 1 noparking, 11.3ms\n",
            "video 1/1 (frame 27/164) /content/drive/MyDrive/TESTING_SCAP12/rambu_test2.mp4: 640x384 1 noparking, 9.1ms\n",
            "video 1/1 (frame 28/164) /content/drive/MyDrive/TESTING_SCAP12/rambu_test2.mp4: 640x384 1 noparking, 9.6ms\n",
            "video 1/1 (frame 29/164) /content/drive/MyDrive/TESTING_SCAP12/rambu_test2.mp4: 640x384 1 noparking, 10.1ms\n",
            "video 1/1 (frame 30/164) /content/drive/MyDrive/TESTING_SCAP12/rambu_test2.mp4: 640x384 1 noparking, 9.6ms\n",
            "video 1/1 (frame 31/164) /content/drive/MyDrive/TESTING_SCAP12/rambu_test2.mp4: 640x384 1 noparking, 9.1ms\n",
            "video 1/1 (frame 32/164) /content/drive/MyDrive/TESTING_SCAP12/rambu_test2.mp4: 640x384 1 noparking, 8.9ms\n",
            "video 1/1 (frame 33/164) /content/drive/MyDrive/TESTING_SCAP12/rambu_test2.mp4: 640x384 1 noparking, 9.1ms\n",
            "video 1/1 (frame 34/164) /content/drive/MyDrive/TESTING_SCAP12/rambu_test2.mp4: 640x384 1 noparking, 16.3ms\n",
            "video 1/1 (frame 35/164) /content/drive/MyDrive/TESTING_SCAP12/rambu_test2.mp4: 640x384 1 noparking, 16.2ms\n",
            "video 1/1 (frame 36/164) /content/drive/MyDrive/TESTING_SCAP12/rambu_test2.mp4: 640x384 1 noparking, 9.1ms\n",
            "video 1/1 (frame 37/164) /content/drive/MyDrive/TESTING_SCAP12/rambu_test2.mp4: 640x384 1 noparking, 9.3ms\n",
            "video 1/1 (frame 38/164) /content/drive/MyDrive/TESTING_SCAP12/rambu_test2.mp4: 640x384 1 noparking, 9.5ms\n",
            "video 1/1 (frame 39/164) /content/drive/MyDrive/TESTING_SCAP12/rambu_test2.mp4: 640x384 1 noparking, 14.8ms\n",
            "video 1/1 (frame 40/164) /content/drive/MyDrive/TESTING_SCAP12/rambu_test2.mp4: 640x384 1 noparking, 10.1ms\n",
            "video 1/1 (frame 41/164) /content/drive/MyDrive/TESTING_SCAP12/rambu_test2.mp4: 640x384 1 noparking, 14.1ms\n",
            "video 1/1 (frame 42/164) /content/drive/MyDrive/TESTING_SCAP12/rambu_test2.mp4: 640x384 1 noparking, 8.7ms\n",
            "video 1/1 (frame 43/164) /content/drive/MyDrive/TESTING_SCAP12/rambu_test2.mp4: 640x384 1 noparking, 9.8ms\n",
            "video 1/1 (frame 44/164) /content/drive/MyDrive/TESTING_SCAP12/rambu_test2.mp4: 640x384 1 noparking, 14.5ms\n",
            "video 1/1 (frame 45/164) /content/drive/MyDrive/TESTING_SCAP12/rambu_test2.mp4: 640x384 1 noparking, 14.5ms\n",
            "video 1/1 (frame 46/164) /content/drive/MyDrive/TESTING_SCAP12/rambu_test2.mp4: 640x384 1 noparking, 11.5ms\n",
            "video 1/1 (frame 47/164) /content/drive/MyDrive/TESTING_SCAP12/rambu_test2.mp4: 640x384 1 noparking, 21.6ms\n",
            "video 1/1 (frame 48/164) /content/drive/MyDrive/TESTING_SCAP12/rambu_test2.mp4: 640x384 1 noparking, 14.0ms\n",
            "video 1/1 (frame 49/164) /content/drive/MyDrive/TESTING_SCAP12/rambu_test2.mp4: 640x384 1 noparking, 10.2ms\n",
            "video 1/1 (frame 50/164) /content/drive/MyDrive/TESTING_SCAP12/rambu_test2.mp4: 640x384 1 noparking, 25.2ms\n",
            "video 1/1 (frame 51/164) /content/drive/MyDrive/TESTING_SCAP12/rambu_test2.mp4: 640x384 1 noparking, 19.6ms\n",
            "video 1/1 (frame 52/164) /content/drive/MyDrive/TESTING_SCAP12/rambu_test2.mp4: 640x384 1 noparking, 10.1ms\n",
            "video 1/1 (frame 53/164) /content/drive/MyDrive/TESTING_SCAP12/rambu_test2.mp4: 640x384 1 noparking, 10.2ms\n",
            "video 1/1 (frame 54/164) /content/drive/MyDrive/TESTING_SCAP12/rambu_test2.mp4: 640x384 1 noparking, 12.8ms\n",
            "video 1/1 (frame 55/164) /content/drive/MyDrive/TESTING_SCAP12/rambu_test2.mp4: 640x384 1 noparking, 13.2ms\n",
            "video 1/1 (frame 56/164) /content/drive/MyDrive/TESTING_SCAP12/rambu_test2.mp4: 640x384 1 noparking, 12.4ms\n",
            "video 1/1 (frame 57/164) /content/drive/MyDrive/TESTING_SCAP12/rambu_test2.mp4: 640x384 1 noparking, 10.7ms\n",
            "video 1/1 (frame 58/164) /content/drive/MyDrive/TESTING_SCAP12/rambu_test2.mp4: 640x384 1 noparking, 14.6ms\n",
            "video 1/1 (frame 59/164) /content/drive/MyDrive/TESTING_SCAP12/rambu_test2.mp4: 640x384 1 noparking, 15.0ms\n",
            "video 1/1 (frame 60/164) /content/drive/MyDrive/TESTING_SCAP12/rambu_test2.mp4: 640x384 1 noparking, 16.2ms\n",
            "video 1/1 (frame 61/164) /content/drive/MyDrive/TESTING_SCAP12/rambu_test2.mp4: 640x384 1 noparking, 13.5ms\n",
            "video 1/1 (frame 62/164) /content/drive/MyDrive/TESTING_SCAP12/rambu_test2.mp4: 640x384 1 noparking, 10.4ms\n",
            "video 1/1 (frame 63/164) /content/drive/MyDrive/TESTING_SCAP12/rambu_test2.mp4: 640x384 1 noparking, 15.9ms\n",
            "video 1/1 (frame 64/164) /content/drive/MyDrive/TESTING_SCAP12/rambu_test2.mp4: 640x384 1 noparking, 12.7ms\n",
            "video 1/1 (frame 65/164) /content/drive/MyDrive/TESTING_SCAP12/rambu_test2.mp4: 640x384 1 noparking, 18.6ms\n",
            "video 1/1 (frame 66/164) /content/drive/MyDrive/TESTING_SCAP12/rambu_test2.mp4: 640x384 1 noparking, 10.1ms\n",
            "video 1/1 (frame 67/164) /content/drive/MyDrive/TESTING_SCAP12/rambu_test2.mp4: 640x384 1 noparking, 12.4ms\n",
            "video 1/1 (frame 68/164) /content/drive/MyDrive/TESTING_SCAP12/rambu_test2.mp4: 640x384 1 noparking, 24.7ms\n",
            "video 1/1 (frame 69/164) /content/drive/MyDrive/TESTING_SCAP12/rambu_test2.mp4: 640x384 1 noparking, 12.3ms\n",
            "video 1/1 (frame 70/164) /content/drive/MyDrive/TESTING_SCAP12/rambu_test2.mp4: 640x384 1 noparking, 11.5ms\n",
            "video 1/1 (frame 71/164) /content/drive/MyDrive/TESTING_SCAP12/rambu_test2.mp4: 640x384 1 noparking, 9.8ms\n",
            "video 1/1 (frame 72/164) /content/drive/MyDrive/TESTING_SCAP12/rambu_test2.mp4: 640x384 1 noparking, 10.3ms\n",
            "video 1/1 (frame 73/164) /content/drive/MyDrive/TESTING_SCAP12/rambu_test2.mp4: 640x384 1 noparking, 10.4ms\n",
            "video 1/1 (frame 74/164) /content/drive/MyDrive/TESTING_SCAP12/rambu_test2.mp4: 640x384 1 noparking, 10.4ms\n",
            "video 1/1 (frame 75/164) /content/drive/MyDrive/TESTING_SCAP12/rambu_test2.mp4: 640x384 1 noparking, 11.3ms\n",
            "video 1/1 (frame 76/164) /content/drive/MyDrive/TESTING_SCAP12/rambu_test2.mp4: 640x384 1 noparking, 9.8ms\n",
            "video 1/1 (frame 77/164) /content/drive/MyDrive/TESTING_SCAP12/rambu_test2.mp4: 640x384 1 noparking, 10.5ms\n",
            "video 1/1 (frame 78/164) /content/drive/MyDrive/TESTING_SCAP12/rambu_test2.mp4: 640x384 1 noparking, 9.8ms\n",
            "video 1/1 (frame 79/164) /content/drive/MyDrive/TESTING_SCAP12/rambu_test2.mp4: 640x384 1 noparking, 9.6ms\n",
            "video 1/1 (frame 80/164) /content/drive/MyDrive/TESTING_SCAP12/rambu_test2.mp4: 640x384 1 noparking, 9.8ms\n",
            "video 1/1 (frame 81/164) /content/drive/MyDrive/TESTING_SCAP12/rambu_test2.mp4: 640x384 1 noparking, 9.6ms\n",
            "video 1/1 (frame 82/164) /content/drive/MyDrive/TESTING_SCAP12/rambu_test2.mp4: 640x384 1 noparking, 10.2ms\n",
            "video 1/1 (frame 83/164) /content/drive/MyDrive/TESTING_SCAP12/rambu_test2.mp4: 640x384 1 noparking, 10.6ms\n",
            "video 1/1 (frame 84/164) /content/drive/MyDrive/TESTING_SCAP12/rambu_test2.mp4: 640x384 1 noparking, 9.2ms\n",
            "video 1/1 (frame 85/164) /content/drive/MyDrive/TESTING_SCAP12/rambu_test2.mp4: 640x384 1 noparking, 13.7ms\n",
            "video 1/1 (frame 86/164) /content/drive/MyDrive/TESTING_SCAP12/rambu_test2.mp4: 640x384 1 noparking, 9.5ms\n",
            "video 1/1 (frame 87/164) /content/drive/MyDrive/TESTING_SCAP12/rambu_test2.mp4: 640x384 1 noparking, 18.5ms\n",
            "video 1/1 (frame 88/164) /content/drive/MyDrive/TESTING_SCAP12/rambu_test2.mp4: 640x384 1 noparking, 10.3ms\n",
            "video 1/1 (frame 89/164) /content/drive/MyDrive/TESTING_SCAP12/rambu_test2.mp4: 640x384 1 noparking, 9.8ms\n",
            "video 1/1 (frame 90/164) /content/drive/MyDrive/TESTING_SCAP12/rambu_test2.mp4: 640x384 1 noparking, 9.8ms\n",
            "video 1/1 (frame 91/164) /content/drive/MyDrive/TESTING_SCAP12/rambu_test2.mp4: 640x384 1 noparking, 9.8ms\n",
            "video 1/1 (frame 92/164) /content/drive/MyDrive/TESTING_SCAP12/rambu_test2.mp4: 640x384 1 noparking, 7.9ms\n",
            "video 1/1 (frame 93/164) /content/drive/MyDrive/TESTING_SCAP12/rambu_test2.mp4: 640x384 1 noparking, 10.3ms\n",
            "video 1/1 (frame 94/164) /content/drive/MyDrive/TESTING_SCAP12/rambu_test2.mp4: 640x384 1 noparking, 8.9ms\n",
            "video 1/1 (frame 95/164) /content/drive/MyDrive/TESTING_SCAP12/rambu_test2.mp4: 640x384 1 noparking, 10.0ms\n",
            "video 1/1 (frame 96/164) /content/drive/MyDrive/TESTING_SCAP12/rambu_test2.mp4: 640x384 1 noparking, 9.5ms\n",
            "video 1/1 (frame 97/164) /content/drive/MyDrive/TESTING_SCAP12/rambu_test2.mp4: 640x384 1 noparking, 11.9ms\n",
            "video 1/1 (frame 98/164) /content/drive/MyDrive/TESTING_SCAP12/rambu_test2.mp4: 640x384 1 noparking, 8.5ms\n",
            "video 1/1 (frame 99/164) /content/drive/MyDrive/TESTING_SCAP12/rambu_test2.mp4: 640x384 1 noparking, 8.2ms\n",
            "video 1/1 (frame 100/164) /content/drive/MyDrive/TESTING_SCAP12/rambu_test2.mp4: 640x384 1 noparking, 8.3ms\n",
            "video 1/1 (frame 101/164) /content/drive/MyDrive/TESTING_SCAP12/rambu_test2.mp4: 640x384 1 noparking, 8.9ms\n",
            "video 1/1 (frame 102/164) /content/drive/MyDrive/TESTING_SCAP12/rambu_test2.mp4: 640x384 1 noparking, 9.8ms\n",
            "video 1/1 (frame 103/164) /content/drive/MyDrive/TESTING_SCAP12/rambu_test2.mp4: 640x384 1 noparking, 8.3ms\n",
            "video 1/1 (frame 104/164) /content/drive/MyDrive/TESTING_SCAP12/rambu_test2.mp4: 640x384 1 noparking, 10.1ms\n",
            "video 1/1 (frame 105/164) /content/drive/MyDrive/TESTING_SCAP12/rambu_test2.mp4: 640x384 1 noparking, 11.0ms\n",
            "video 1/1 (frame 106/164) /content/drive/MyDrive/TESTING_SCAP12/rambu_test2.mp4: 640x384 1 noparking, 11.2ms\n",
            "video 1/1 (frame 107/164) /content/drive/MyDrive/TESTING_SCAP12/rambu_test2.mp4: 640x384 1 noparking, 9.6ms\n",
            "video 1/1 (frame 108/164) /content/drive/MyDrive/TESTING_SCAP12/rambu_test2.mp4: 640x384 1 noparking, 11.8ms\n",
            "video 1/1 (frame 109/164) /content/drive/MyDrive/TESTING_SCAP12/rambu_test2.mp4: 640x384 1 noparking, 7.6ms\n",
            "video 1/1 (frame 110/164) /content/drive/MyDrive/TESTING_SCAP12/rambu_test2.mp4: 640x384 1 noparking, 8.1ms\n",
            "video 1/1 (frame 111/164) /content/drive/MyDrive/TESTING_SCAP12/rambu_test2.mp4: 640x384 1 noparking, 7.7ms\n",
            "video 1/1 (frame 112/164) /content/drive/MyDrive/TESTING_SCAP12/rambu_test2.mp4: 640x384 1 noparking, 10.3ms\n",
            "video 1/1 (frame 113/164) /content/drive/MyDrive/TESTING_SCAP12/rambu_test2.mp4: 640x384 1 noparking, 8.6ms\n",
            "video 1/1 (frame 114/164) /content/drive/MyDrive/TESTING_SCAP12/rambu_test2.mp4: 640x384 1 noparking, 8.2ms\n",
            "video 1/1 (frame 115/164) /content/drive/MyDrive/TESTING_SCAP12/rambu_test2.mp4: 640x384 1 noparking, 9.0ms\n",
            "video 1/1 (frame 116/164) /content/drive/MyDrive/TESTING_SCAP12/rambu_test2.mp4: 640x384 1 noparking, 9.6ms\n",
            "video 1/1 (frame 117/164) /content/drive/MyDrive/TESTING_SCAP12/rambu_test2.mp4: 640x384 1 noparking, 11.0ms\n",
            "video 1/1 (frame 118/164) /content/drive/MyDrive/TESTING_SCAP12/rambu_test2.mp4: 640x384 1 noparking, 8.6ms\n",
            "video 1/1 (frame 119/164) /content/drive/MyDrive/TESTING_SCAP12/rambu_test2.mp4: 640x384 1 noparking, 9.2ms\n",
            "video 1/1 (frame 120/164) /content/drive/MyDrive/TESTING_SCAP12/rambu_test2.mp4: 640x384 1 noparking, 12.3ms\n",
            "video 1/1 (frame 121/164) /content/drive/MyDrive/TESTING_SCAP12/rambu_test2.mp4: 640x384 1 noparking, 10.6ms\n",
            "video 1/1 (frame 122/164) /content/drive/MyDrive/TESTING_SCAP12/rambu_test2.mp4: 640x384 1 noparking, 9.1ms\n",
            "video 1/1 (frame 123/164) /content/drive/MyDrive/TESTING_SCAP12/rambu_test2.mp4: 640x384 1 noparking, 7.7ms\n",
            "video 1/1 (frame 124/164) /content/drive/MyDrive/TESTING_SCAP12/rambu_test2.mp4: 640x384 1 noparking, 8.0ms\n",
            "video 1/1 (frame 125/164) /content/drive/MyDrive/TESTING_SCAP12/rambu_test2.mp4: 640x384 1 noparking, 10.2ms\n",
            "video 1/1 (frame 126/164) /content/drive/MyDrive/TESTING_SCAP12/rambu_test2.mp4: 640x384 1 noparking, 9.1ms\n",
            "video 1/1 (frame 127/164) /content/drive/MyDrive/TESTING_SCAP12/rambu_test2.mp4: 640x384 1 noparking, 11.4ms\n",
            "video 1/1 (frame 128/164) /content/drive/MyDrive/TESTING_SCAP12/rambu_test2.mp4: 640x384 1 noparking, 9.1ms\n",
            "video 1/1 (frame 129/164) /content/drive/MyDrive/TESTING_SCAP12/rambu_test2.mp4: 640x384 1 noparking, 10.2ms\n",
            "video 1/1 (frame 130/164) /content/drive/MyDrive/TESTING_SCAP12/rambu_test2.mp4: 640x384 1 noparking, 8.9ms\n",
            "video 1/1 (frame 131/164) /content/drive/MyDrive/TESTING_SCAP12/rambu_test2.mp4: 640x384 1 noparking, 16.8ms\n",
            "video 1/1 (frame 132/164) /content/drive/MyDrive/TESTING_SCAP12/rambu_test2.mp4: 640x384 1 noparking, 10.3ms\n",
            "video 1/1 (frame 133/164) /content/drive/MyDrive/TESTING_SCAP12/rambu_test2.mp4: 640x384 1 noparking, 11.0ms\n",
            "video 1/1 (frame 134/164) /content/drive/MyDrive/TESTING_SCAP12/rambu_test2.mp4: 640x384 1 noparking, 12.6ms\n",
            "video 1/1 (frame 135/164) /content/drive/MyDrive/TESTING_SCAP12/rambu_test2.mp4: 640x384 1 noparking, 11.7ms\n",
            "video 1/1 (frame 136/164) /content/drive/MyDrive/TESTING_SCAP12/rambu_test2.mp4: 640x384 1 noparking, 11.9ms\n",
            "video 1/1 (frame 137/164) /content/drive/MyDrive/TESTING_SCAP12/rambu_test2.mp4: 640x384 1 noparking, 11.5ms\n",
            "video 1/1 (frame 138/164) /content/drive/MyDrive/TESTING_SCAP12/rambu_test2.mp4: 640x384 1 noparking, 10.0ms\n",
            "video 1/1 (frame 139/164) /content/drive/MyDrive/TESTING_SCAP12/rambu_test2.mp4: 640x384 1 noparking, 8.8ms\n",
            "video 1/1 (frame 140/164) /content/drive/MyDrive/TESTING_SCAP12/rambu_test2.mp4: 640x384 1 noparking, 10.7ms\n",
            "video 1/1 (frame 141/164) /content/drive/MyDrive/TESTING_SCAP12/rambu_test2.mp4: 640x384 1 noparking, 8.8ms\n",
            "video 1/1 (frame 142/164) /content/drive/MyDrive/TESTING_SCAP12/rambu_test2.mp4: 640x384 1 noparking, 9.1ms\n",
            "video 1/1 (frame 143/164) /content/drive/MyDrive/TESTING_SCAP12/rambu_test2.mp4: 640x384 1 noparking, 10.3ms\n",
            "video 1/1 (frame 144/164) /content/drive/MyDrive/TESTING_SCAP12/rambu_test2.mp4: 640x384 1 noparking, 10.1ms\n",
            "video 1/1 (frame 145/164) /content/drive/MyDrive/TESTING_SCAP12/rambu_test2.mp4: 640x384 1 noparking, 10.2ms\n",
            "video 1/1 (frame 146/164) /content/drive/MyDrive/TESTING_SCAP12/rambu_test2.mp4: 640x384 1 noparking, 10.4ms\n",
            "video 1/1 (frame 147/164) /content/drive/MyDrive/TESTING_SCAP12/rambu_test2.mp4: 640x384 1 noparking, 7.1ms\n",
            "video 1/1 (frame 148/164) /content/drive/MyDrive/TESTING_SCAP12/rambu_test2.mp4: 640x384 1 noparking, 9.5ms\n",
            "video 1/1 (frame 149/164) /content/drive/MyDrive/TESTING_SCAP12/rambu_test2.mp4: 640x384 1 noparking, 8.2ms\n",
            "video 1/1 (frame 150/164) /content/drive/MyDrive/TESTING_SCAP12/rambu_test2.mp4: 640x384 1 noparking, 9.5ms\n",
            "video 1/1 (frame 151/164) /content/drive/MyDrive/TESTING_SCAP12/rambu_test2.mp4: 640x384 1 noparking, 9.9ms\n",
            "video 1/1 (frame 152/164) /content/drive/MyDrive/TESTING_SCAP12/rambu_test2.mp4: 640x384 1 noparking, 10.7ms\n",
            "video 1/1 (frame 153/164) /content/drive/MyDrive/TESTING_SCAP12/rambu_test2.mp4: 640x384 1 noparking, 9.8ms\n",
            "video 1/1 (frame 154/164) /content/drive/MyDrive/TESTING_SCAP12/rambu_test2.mp4: 640x384 1 noparking, 9.2ms\n",
            "video 1/1 (frame 155/164) /content/drive/MyDrive/TESTING_SCAP12/rambu_test2.mp4: 640x384 1 noparking, 9.9ms\n",
            "video 1/1 (frame 156/164) /content/drive/MyDrive/TESTING_SCAP12/rambu_test2.mp4: 640x384 1 noparking, 13.5ms\n",
            "video 1/1 (frame 157/164) /content/drive/MyDrive/TESTING_SCAP12/rambu_test2.mp4: 640x384 1 noparking, 9.2ms\n",
            "video 1/1 (frame 158/164) /content/drive/MyDrive/TESTING_SCAP12/rambu_test2.mp4: 640x384 1 noparking, 10.0ms\n",
            "video 1/1 (frame 159/164) /content/drive/MyDrive/TESTING_SCAP12/rambu_test2.mp4: 640x384 1 noparking, 7.8ms\n",
            "video 1/1 (frame 160/164) /content/drive/MyDrive/TESTING_SCAP12/rambu_test2.mp4: 640x384 (no detections), 9.0ms\n",
            "video 1/1 (frame 161/164) /content/drive/MyDrive/TESTING_SCAP12/rambu_test2.mp4: 640x384 (no detections), 6.8ms\n",
            "video 1/1 (frame 162/164) /content/drive/MyDrive/TESTING_SCAP12/rambu_test2.mp4: 640x384 (no detections), 8.7ms\n",
            "video 1/1 (frame 163/164) /content/drive/MyDrive/TESTING_SCAP12/rambu_test2.mp4: 640x384 (no detections), 10.4ms\n",
            "video 1/1 (frame 164/164) /content/drive/MyDrive/TESTING_SCAP12/rambu_test2.mp4: 640x384 (no detections), 7.4ms\n",
            "Speed: 4.0ms preprocess, 10.8ms inference, 1.7ms postprocess per image at shape (1, 3, 640, 384)\n",
            "Results saved to \u001b[1mruns/detect/track3\u001b[0m\n"
          ]
        }
      ]
    }
  ]
}